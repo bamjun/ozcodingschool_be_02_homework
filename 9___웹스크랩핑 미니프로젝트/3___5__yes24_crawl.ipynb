{
 "cells": [
  {
   "cell_type": "markdown",
   "metadata": {},
   "source": [
    "### yes 24 크롤링\n",
    "[학습자료](https://visioneer.notion.site/05-Mini-Project-24-9ea5c5071c55435c96d4a7b32f599c7c)"
   ]
  },
  {
   "cell_type": "code",
   "execution_count": 24,
   "metadata": {},
   "outputs": [
    {
     "data": {
      "text/plain": [
       "'C:\\\\Users\\\\khy51\\\\.wdm\\\\drivers\\\\chromedriver\\\\win64\\\\121.0.6167.85\\\\chromedriver-win32/chromedriver.exe'"
      ]
     },
     "execution_count": 24,
     "metadata": {},
     "output_type": "execute_result"
    }
   ],
   "source": [
    "# webdriver-manager 라이브러리 불러오기\n",
    "from webdriver_manager.chrome import ChromeDriverManager\n",
    "ChromeDriverManager().install()"
   ]
  },
  {
   "cell_type": "code",
   "execution_count": 25,
   "metadata": {},
   "outputs": [],
   "source": [
    "from selenium import webdriver\n",
    "browser = webdriver.Chrome()"
   ]
  },
  {
   "cell_type": "markdown",
   "metadata": {},
   "source": [
    "### 예스24 데이터"
   ]
  },
  {
   "cell_type": "code",
   "execution_count": 26,
   "metadata": {},
   "outputs": [],
   "source": [
    "url = 'https://product.kyobobook.co.kr/bestseller/online?period=001&page=1'\n",
    "browser.get(url)"
   ]
  },
  {
   "cell_type": "code",
   "execution_count": 27,
   "metadata": {},
   "outputs": [
    {
     "name": "stdout",
     "output_type": "stream",
     "text": [
      "https://product.kyobobook.co.kr/detail/S000212021076\n",
      "https://product.kyobobook.co.kr/detail/S000212021087\n",
      "https://product.kyobobook.co.kr/detail/S000212216117\n",
      "https://product.kyobobook.co.kr/detail/S000211352514\n",
      "https://product.kyobobook.co.kr/detail/S000208779631\n",
      "https://product.kyobobook.co.kr/detail/S000212053843\n",
      "https://product.kyobobook.co.kr/detail/S000200746091\n",
      "https://product.kyobobook.co.kr/detail/S000211925133\n",
      "https://product.kyobobook.co.kr/detail/S000212056636\n",
      "https://product.kyobobook.co.kr/detail/S000211613551\n",
      "https://product.kyobobook.co.kr/detail/S000208718100\n",
      "https://product.kyobobook.co.kr/detail/S000211914418\n",
      "https://product.kyobobook.co.kr/detail/S000211613549\n",
      "https://product.kyobobook.co.kr/detail/S000211924942\n",
      "https://product.kyobobook.co.kr/detail/S000211905581\n",
      "https://product.kyobobook.co.kr/detail/S000001020219\n",
      "https://product.kyobobook.co.kr/detail/S000211513068\n",
      "https://product.kyobobook.co.kr/detail/S000201621022\n",
      "https://product.kyobobook.co.kr/detail/S000210410749\n",
      "https://product.kyobobook.co.kr/detail/S000202652825\n"
     ]
    }
   ],
   "source": [
    "from selenium.webdriver.common.by import By\n",
    "# 1페이지의 링크 데이터 전부 수집\n",
    "\n",
    "### 한개의 베스트 셀러 링크 수집\n",
    "# browser.find_element(By.CLASS_NAME, 'prod_info').get_attribute('href')\n",
    "\n",
    "### 1페이지 전체의 링크데이터\n",
    "# browser.find_element(By.CLASS_NAME, 'gd_name').get_attribute('href')\n",
    "datas = browser.find_elements(By.CLASS_NAME, 'prod_info')\n",
    "for i in datas:\n",
    "    print(i.get_attribute('href'))"
   ]
  },
  {
   "cell_type": "code",
   "execution_count": 77,
   "metadata": {},
   "outputs": [
    {
     "name": "stdout",
     "output_type": "stream",
     "text": [
      "********** 현재 1 페이지 수집 중 입니다. **********\n",
      "********** 현재 2 페이지 수집 중 입니다. **********\n",
      "********** 현재 3 페이지 수집 중 입니다. **********\n",
      "['https://product.kyobobook.co.kr/detail/S000212021076', 'https://product.kyobobook.co.kr/detail/S000212021087', 'https://product.kyobobook.co.kr/detail/S000212216117', 'https://product.kyobobook.co.kr/detail/S000211352514', 'https://product.kyobobook.co.kr/detail/S000212146896', 'https://product.kyobobook.co.kr/detail/S000208779631', 'https://product.kyobobook.co.kr/detail/S000212053843', 'https://product.kyobobook.co.kr/detail/S000200746091', 'https://product.kyobobook.co.kr/detail/S000211925133', 'https://product.kyobobook.co.kr/detail/S000212056636', 'https://product.kyobobook.co.kr/detail/S000211613551', 'https://product.kyobobook.co.kr/detail/S000208718100', 'https://product.kyobobook.co.kr/detail/S000211914418', 'https://product.kyobobook.co.kr/detail/S000211613549', 'https://product.kyobobook.co.kr/detail/S000211924942', 'https://product.kyobobook.co.kr/detail/S000211905581', 'https://product.kyobobook.co.kr/detail/S000001020219', 'https://product.kyobobook.co.kr/detail/S000211513068', 'https://product.kyobobook.co.kr/detail/S000201621022', 'https://product.kyobobook.co.kr/detail/S000210410749', 'https://product.kyobobook.co.kr/detail/S000202652825', 'https://product.kyobobook.co.kr/detail/S000001619177', 'https://product.kyobobook.co.kr/detail/S000211213645', 'https://product.kyobobook.co.kr/detail/S000001949259', 'https://product.kyobobook.co.kr/detail/S000202340164', 'https://product.kyobobook.co.kr/detail/S000212172992', 'https://product.kyobobook.co.kr/detail/S000200406668', 'https://product.kyobobook.co.kr/detail/S000001632467', 'https://product.kyobobook.co.kr/detail/S000200406673', 'https://product.kyobobook.co.kr/detail/S000211788361', 'https://product.kyobobook.co.kr/detail/S000001913217', 'https://product.kyobobook.co.kr/detail/S000001897788', 'https://product.kyobobook.co.kr/detail/S000211654427', 'https://product.kyobobook.co.kr/detail/S000211686108', 'https://product.kyobobook.co.kr/detail/S000212227153', 'https://product.kyobobook.co.kr/detail/S000211871551', 'https://product.kyobobook.co.kr/detail/S000211734678', 'https://product.kyobobook.co.kr/detail/S000211920054', 'https://product.kyobobook.co.kr/detail/S000209007998', 'https://product.kyobobook.co.kr/detail/S000212222151', 'https://product.kyobobook.co.kr/detail/S000208995869', 'https://product.kyobobook.co.kr/detail/S000211686107', 'https://product.kyobobook.co.kr/detail/S000211647166', 'https://product.kyobobook.co.kr/detail/S000001813670', 'https://product.kyobobook.co.kr/detail/S000000450452', 'https://product.kyobobook.co.kr/detail/S000001914848', 'https://product.kyobobook.co.kr/detail/S000211966591', 'https://product.kyobobook.co.kr/detail/S000212158520', 'https://product.kyobobook.co.kr/detail/S000212174654', 'https://product.kyobobook.co.kr/detail/S000211787008', 'https://product.kyobobook.co.kr/detail/S000201621680', 'https://product.kyobobook.co.kr/detail/S000211906755', 'https://product.kyobobook.co.kr/detail/S000201465565', 'https://product.kyobobook.co.kr/detail/S000212169908', 'https://product.kyobobook.co.kr/detail/S000212146919', 'https://product.kyobobook.co.kr/detail/S000211692877', 'https://product.kyobobook.co.kr/detail/S000211554487', 'https://product.kyobobook.co.kr/detail/S000210137571', 'https://product.kyobobook.co.kr/detail/S000203331812', 'https://product.kyobobook.co.kr/detail/S000212161775']\n"
     ]
    }
   ],
   "source": [
    "# 3페이지의 링크 데이터 전부 수집\n",
    "import time\n",
    "\n",
    "link_list = []\n",
    "for x in range(1, 4):\n",
    "    print(\"*\"*10, f'현재 {x} 페이지 수집 중 입니다.', '*'*10)\n",
    "    url = f'https://product.kyobobook.co.kr/bestseller/online?period=001&dsplDvsnCode=001&dsplTrgtDvsnCode=002&saleCmdtDsplDvsnCode=TOT&page={x}'\n",
    "    \n",
    "    browser.get(url)\n",
    "\n",
    "    datas = browser.find_elements(By.CLASS_NAME, 'auto_overflow_inner a.prod_info')\n",
    "    datas = datas\n",
    "    for i in datas:\n",
    "        link = i.get_attribute('href')\n",
    "        link_list.append(link)\n",
    "    time.sleep(3)\n",
    "\n",
    "print(link_list)\n"
   ]
  },
  {
   "cell_type": "code",
   "execution_count": 78,
   "metadata": {},
   "outputs": [
    {
     "data": {
      "text/plain": [
       "60"
      ]
     },
     "execution_count": 78,
     "metadata": {},
     "output_type": "execute_result"
    }
   ],
   "source": [
    "len(link_list)"
   ]
  },
  {
   "cell_type": "code",
   "execution_count": 87,
   "metadata": {},
   "outputs": [
    {
     "name": "stdout",
     "output_type": "stream",
     "text": [
      "46\n"
     ]
    }
   ],
   "source": [
    "for x in range(len(link_list)):\n",
    "    if link_list[x] == 'https://product.kyobobook.co.kr/detail/S000211966591':\n",
    "        print(x)"
   ]
  },
  {
   "cell_type": "code",
   "execution_count": 61,
   "metadata": {},
   "outputs": [
    {
     "ename": "AttributeError",
     "evalue": "'str' object has no attribute 'text'",
     "output_type": "error",
     "traceback": [
      "\u001b[1;31m---------------------------------------------------------------------------\u001b[0m",
      "\u001b[1;31mAttributeError\u001b[0m                            Traceback (most recent call last)",
      "Cell \u001b[1;32mIn[61], line 6\u001b[0m\n\u001b[0;32m      2\u001b[0m \u001b[38;5;28;01mfrom\u001b[39;00m \u001b[38;5;21;01mdatetime\u001b[39;00m \u001b[38;5;28;01mimport\u001b[39;00m datetime\n\u001b[0;32m      3\u001b[0m browser\u001b[38;5;241m.\u001b[39mget(link_list[\u001b[38;5;241m0\u001b[39m])\n\u001b[1;32m----> 6\u001b[0m poimage_src \u001b[38;5;241m=\u001b[39m \u001b[43mbrowser\u001b[49m\u001b[38;5;241;43m.\u001b[39;49m\u001b[43mfind_element\u001b[49m\u001b[43m(\u001b[49m\u001b[43mBy\u001b[49m\u001b[38;5;241;43m.\u001b[39;49m\u001b[43mCSS_SELECTOR\u001b[49m\u001b[43m,\u001b[49m\u001b[43m \u001b[49m\u001b[38;5;124;43m'\u001b[39;49m\u001b[38;5;124;43m.portrait_img_box.portrait img\u001b[39;49m\u001b[38;5;124;43m'\u001b[39;49m\u001b[43m)\u001b[49m\u001b[38;5;241;43m.\u001b[39;49m\u001b[43mget_attribute\u001b[49m\u001b[43m(\u001b[49m\u001b[38;5;124;43m'\u001b[39;49m\u001b[38;5;124;43msrc\u001b[39;49m\u001b[38;5;124;43m'\u001b[39;49m\u001b[43m)\u001b[49m\u001b[38;5;241;43m.\u001b[39;49m\u001b[43mtext\u001b[49m\n\u001b[0;32m      7\u001b[0m \u001b[38;5;28mprint\u001b[39m(poimage_src)\n",
      "\u001b[1;31mAttributeError\u001b[0m: 'str' object has no attribute 'text'"
     ]
    }
   ],
   "source": [
    "import re\n",
    "from datetime import datetime\n",
    "browser.get(link_list[0])\n",
    "\n",
    "\n",
    "poimage_src = browser.find_element(By.CSS_SELECTOR, '.portrait_img_box.portrait img').get_attribute('src')\n",
    "print(poimage_src)"
   ]
  },
  {
   "cell_type": "code",
   "execution_count": 88,
   "metadata": {},
   "outputs": [
    {
     "ename": "NoSuchElementException",
     "evalue": "Message: no such element: Unable to locate element: {\"method\":\"css selector\",\"selector\":\".sale_price s.val\"}\n  (Session info: chrome=121.0.6167.140); For documentation on this error, please visit: https://www.selenium.dev/documentation/webdriver/troubleshooting/errors#no-such-element-exception\nStacktrace:\n\tGetHandleVerifier [0x00007FF6EBA95E42+3538674]\n\t(No symbol) [0x00007FF6EB6B4C02]\n\t(No symbol) [0x00007FF6EB565AEB]\n\t(No symbol) [0x00007FF6EB5ABF4E]\n\t(No symbol) [0x00007FF6EB5AC0CC]\n\t(No symbol) [0x00007FF6EB5EE477]\n\t(No symbol) [0x00007FF6EB5CF0EF]\n\t(No symbol) [0x00007FF6EB5EBDE3]\n\t(No symbol) [0x00007FF6EB5CEE53]\n\t(No symbol) [0x00007FF6EB59F514]\n\t(No symbol) [0x00007FF6EB5A0631]\n\tGetHandleVerifier [0x00007FF6EBAC6CAD+3738973]\n\tGetHandleVerifier [0x00007FF6EBB1C506+4089270]\n\tGetHandleVerifier [0x00007FF6EBB14823+4057299]\n\tGetHandleVerifier [0x00007FF6EB7E5C49+720121]\n\t(No symbol) [0x00007FF6EB6C126F]\n\t(No symbol) [0x00007FF6EB6BC304]\n\t(No symbol) [0x00007FF6EB6BC432]\n\t(No symbol) [0x00007FF6EB6ABD04]\n\tBaseThreadInitThunk [0x00007FFC09AE257D+29]\n\tRtlUserThreadStart [0x00007FFC0B20AA58+40]\n",
     "output_type": "error",
     "traceback": [
      "\u001b[1;31m---------------------------------------------------------------------------\u001b[0m",
      "\u001b[1;31mNoSuchElementException\u001b[0m                    Traceback (most recent call last)",
      "Cell \u001b[1;32mIn[88], line 36\u001b[0m\n\u001b[0;32m     31\u001b[0m \u001b[38;5;66;03m# 첫 번째 매칭된 숫자만 추출 (문자열 리스트에서 첫 번째 요소를 정수로 변환)\u001b[39;00m\n\u001b[0;32m     32\u001b[0m kyoboReview \u001b[38;5;241m=\u001b[39m \u001b[38;5;28mint\u001b[39m(review[\u001b[38;5;241m0\u001b[39m]) \u001b[38;5;28;01mif\u001b[39;00m review \u001b[38;5;28;01melse\u001b[39;00m \u001b[38;5;28;01mNone\u001b[39;00m\n\u001b[1;32m---> 36\u001b[0m price \u001b[38;5;241m=\u001b[39m \u001b[43mbrowser\u001b[49m\u001b[38;5;241;43m.\u001b[39;49m\u001b[43mfind_element\u001b[49m\u001b[43m(\u001b[49m\u001b[43mBy\u001b[49m\u001b[38;5;241;43m.\u001b[39;49m\u001b[43mCSS_SELECTOR\u001b[49m\u001b[43m,\u001b[49m\u001b[43m \u001b[49m\u001b[38;5;124;43m'\u001b[39;49m\u001b[38;5;124;43m.sale_price s.val\u001b[39;49m\u001b[38;5;124;43m'\u001b[39;49m\u001b[43m)\u001b[49m\u001b[38;5;241m.\u001b[39mtext[:\u001b[38;5;241m-\u001b[39m\u001b[38;5;241m1\u001b[39m]\n\u001b[0;32m     37\u001b[0m kyoboPrice \u001b[38;5;241m=\u001b[39m \u001b[38;5;28mint\u001b[39m(price\u001b[38;5;241m.\u001b[39mreplace(\u001b[38;5;124m'\u001b[39m\u001b[38;5;124m,\u001b[39m\u001b[38;5;124m'\u001b[39m, \u001b[38;5;124m'\u001b[39m\u001b[38;5;124m'\u001b[39m)\u001b[38;5;241m.\u001b[39mstrip())\n\u001b[0;32m     39\u001b[0m kyoboRank \u001b[38;5;241m=\u001b[39m browser\u001b[38;5;241m.\u001b[39mfind_element(By\u001b[38;5;241m.\u001b[39mCSS_SELECTOR, \u001b[38;5;124m'\u001b[39m\u001b[38;5;124m.prod_best_text span.rank\u001b[39m\u001b[38;5;124m'\u001b[39m)\u001b[38;5;241m.\u001b[39mtext\n",
      "File \u001b[1;32mc:\\Users\\khy51\\AppData\\Local\\Programs\\Python\\Python312\\Lib\\site-packages\\selenium\\webdriver\\remote\\webdriver.py:741\u001b[0m, in \u001b[0;36mWebDriver.find_element\u001b[1;34m(self, by, value)\u001b[0m\n\u001b[0;32m    738\u001b[0m     by \u001b[38;5;241m=\u001b[39m By\u001b[38;5;241m.\u001b[39mCSS_SELECTOR\n\u001b[0;32m    739\u001b[0m     value \u001b[38;5;241m=\u001b[39m \u001b[38;5;124mf\u001b[39m\u001b[38;5;124m'\u001b[39m\u001b[38;5;124m[name=\u001b[39m\u001b[38;5;124m\"\u001b[39m\u001b[38;5;132;01m{\u001b[39;00mvalue\u001b[38;5;132;01m}\u001b[39;00m\u001b[38;5;124m\"\u001b[39m\u001b[38;5;124m]\u001b[39m\u001b[38;5;124m'\u001b[39m\n\u001b[1;32m--> 741\u001b[0m \u001b[38;5;28;01mreturn\u001b[39;00m \u001b[38;5;28;43mself\u001b[39;49m\u001b[38;5;241;43m.\u001b[39;49m\u001b[43mexecute\u001b[49m\u001b[43m(\u001b[49m\u001b[43mCommand\u001b[49m\u001b[38;5;241;43m.\u001b[39;49m\u001b[43mFIND_ELEMENT\u001b[49m\u001b[43m,\u001b[49m\u001b[43m \u001b[49m\u001b[43m{\u001b[49m\u001b[38;5;124;43m\"\u001b[39;49m\u001b[38;5;124;43musing\u001b[39;49m\u001b[38;5;124;43m\"\u001b[39;49m\u001b[43m:\u001b[49m\u001b[43m \u001b[49m\u001b[43mby\u001b[49m\u001b[43m,\u001b[49m\u001b[43m \u001b[49m\u001b[38;5;124;43m\"\u001b[39;49m\u001b[38;5;124;43mvalue\u001b[39;49m\u001b[38;5;124;43m\"\u001b[39;49m\u001b[43m:\u001b[49m\u001b[43m \u001b[49m\u001b[43mvalue\u001b[49m\u001b[43m}\u001b[49m\u001b[43m)\u001b[49m[\u001b[38;5;124m\"\u001b[39m\u001b[38;5;124mvalue\u001b[39m\u001b[38;5;124m\"\u001b[39m]\n",
      "File \u001b[1;32mc:\\Users\\khy51\\AppData\\Local\\Programs\\Python\\Python312\\Lib\\site-packages\\selenium\\webdriver\\remote\\webdriver.py:347\u001b[0m, in \u001b[0;36mWebDriver.execute\u001b[1;34m(self, driver_command, params)\u001b[0m\n\u001b[0;32m    345\u001b[0m response \u001b[38;5;241m=\u001b[39m \u001b[38;5;28mself\u001b[39m\u001b[38;5;241m.\u001b[39mcommand_executor\u001b[38;5;241m.\u001b[39mexecute(driver_command, params)\n\u001b[0;32m    346\u001b[0m \u001b[38;5;28;01mif\u001b[39;00m response:\n\u001b[1;32m--> 347\u001b[0m     \u001b[38;5;28;43mself\u001b[39;49m\u001b[38;5;241;43m.\u001b[39;49m\u001b[43merror_handler\u001b[49m\u001b[38;5;241;43m.\u001b[39;49m\u001b[43mcheck_response\u001b[49m\u001b[43m(\u001b[49m\u001b[43mresponse\u001b[49m\u001b[43m)\u001b[49m\n\u001b[0;32m    348\u001b[0m     response[\u001b[38;5;124m\"\u001b[39m\u001b[38;5;124mvalue\u001b[39m\u001b[38;5;124m\"\u001b[39m] \u001b[38;5;241m=\u001b[39m \u001b[38;5;28mself\u001b[39m\u001b[38;5;241m.\u001b[39m_unwrap_value(response\u001b[38;5;241m.\u001b[39mget(\u001b[38;5;124m\"\u001b[39m\u001b[38;5;124mvalue\u001b[39m\u001b[38;5;124m\"\u001b[39m, \u001b[38;5;28;01mNone\u001b[39;00m))\n\u001b[0;32m    349\u001b[0m     \u001b[38;5;28;01mreturn\u001b[39;00m response\n",
      "File \u001b[1;32mc:\\Users\\khy51\\AppData\\Local\\Programs\\Python\\Python312\\Lib\\site-packages\\selenium\\webdriver\\remote\\errorhandler.py:229\u001b[0m, in \u001b[0;36mErrorHandler.check_response\u001b[1;34m(self, response)\u001b[0m\n\u001b[0;32m    227\u001b[0m         alert_text \u001b[38;5;241m=\u001b[39m value[\u001b[38;5;124m\"\u001b[39m\u001b[38;5;124malert\u001b[39m\u001b[38;5;124m\"\u001b[39m]\u001b[38;5;241m.\u001b[39mget(\u001b[38;5;124m\"\u001b[39m\u001b[38;5;124mtext\u001b[39m\u001b[38;5;124m\"\u001b[39m)\n\u001b[0;32m    228\u001b[0m     \u001b[38;5;28;01mraise\u001b[39;00m exception_class(message, screen, stacktrace, alert_text)  \u001b[38;5;66;03m# type: ignore[call-arg]  # mypy is not smart enough here\u001b[39;00m\n\u001b[1;32m--> 229\u001b[0m \u001b[38;5;28;01mraise\u001b[39;00m exception_class(message, screen, stacktrace)\n",
      "\u001b[1;31mNoSuchElementException\u001b[0m: Message: no such element: Unable to locate element: {\"method\":\"css selector\",\"selector\":\".sale_price s.val\"}\n  (Session info: chrome=121.0.6167.140); For documentation on this error, please visit: https://www.selenium.dev/documentation/webdriver/troubleshooting/errors#no-such-element-exception\nStacktrace:\n\tGetHandleVerifier [0x00007FF6EBA95E42+3538674]\n\t(No symbol) [0x00007FF6EB6B4C02]\n\t(No symbol) [0x00007FF6EB565AEB]\n\t(No symbol) [0x00007FF6EB5ABF4E]\n\t(No symbol) [0x00007FF6EB5AC0CC]\n\t(No symbol) [0x00007FF6EB5EE477]\n\t(No symbol) [0x00007FF6EB5CF0EF]\n\t(No symbol) [0x00007FF6EB5EBDE3]\n\t(No symbol) [0x00007FF6EB5CEE53]\n\t(No symbol) [0x00007FF6EB59F514]\n\t(No symbol) [0x00007FF6EB5A0631]\n\tGetHandleVerifier [0x00007FF6EBAC6CAD+3738973]\n\tGetHandleVerifier [0x00007FF6EBB1C506+4089270]\n\tGetHandleVerifier [0x00007FF6EBB14823+4057299]\n\tGetHandleVerifier [0x00007FF6EB7E5C49+720121]\n\t(No symbol) [0x00007FF6EB6C126F]\n\t(No symbol) [0x00007FF6EB6BC304]\n\t(No symbol) [0x00007FF6EB6BC432]\n\t(No symbol) [0x00007FF6EB6ABD04]\n\tBaseThreadInitThunk [0x00007FFC09AE257D+29]\n\tRtlUserThreadStart [0x00007FFC0B20AA58+40]\n"
     ]
    }
   ],
   "source": [
    "# for link in link_list:\n",
    "#     browser.get(link)\n",
    "# 테스트용.\n",
    "\n",
    "browser.get(link_list[46])\n",
    "title = browser.find_element(By.CLASS_NAME, 'prod_title').text\n",
    "author = browser.find_element(By.CLASS_NAME, 'author').text\n",
    "\n",
    "a_element = browser.find_element(By.CSS_SELECTOR, 'div.prod_info_text.publish_date a.btn_publish_link')\n",
    "publisher = a_element.text\n",
    "\n",
    "# <div> 태그 안의 텍스트 추출 (전체 div의 텍스트에서 <a> 태그의 텍스트를 제외한 나머지)\n",
    "div_element = browser.find_element(By.CSS_SELECTOR, 'div.prod_info_text.publish_date')\n",
    "# <a> 태그의 텍스트와 \" · \" 문자열을 제거하여 최종 텍스트 추출\n",
    "publishing = div_element.text.replace(a, '').replace(' · ', '').strip()\n",
    "match = re.search(r'(\\d+)년 (\\d+)월 (\\d+)일', publishing)\n",
    "year, month, day = match.groups()\n",
    "data_obj = datetime(int(year), int(month), int(day))\n",
    "publishing = data_obj.strftime(\"%Y-%m-%d\")\n",
    "\n",
    "inputDate = datetime.now().strftime('%Y-%m-%d')\n",
    "\n",
    "isbn = browser.find_element(By.CSS_SELECTOR, '.tbl_row tbody tr td').text\n",
    "\n",
    "\n",
    "kyoboRating = browser.find_element(By.CSS_SELECTOR, '.caption-badge.caption-secondary span.val').text\n",
    "\n",
    "\n",
    "text = browser.find_element(By.CSS_SELECTOR, '.product_detail_area.klover_review_wrap p.title_heading').text\n",
    "review = re.findall(r'\\((\\d+)\\)', text)\n",
    "# 첫 번째 매칭된 숫자만 추출 (문자열 리스트에서 첫 번째 요소를 정수로 변환)\n",
    "kyoboReview = int(review[0]) if review else None\n",
    "\n",
    "\n",
    "\n",
    "price = browser.find_element(By.CSS_SELECTOR, '.sale_price s.val').text[:-1]\n",
    "kyoboPrice = int(price.replace(',', '').strip())\n",
    "\n",
    "kyoboRank = browser.find_element(By.CSS_SELECTOR, '.prod_best_text span.rank').text\n",
    "\n",
    "try:\n",
    "    price = browser.find_element(By.CSS_SELECTOR, '.prod_price span.price span.val').text[:-1]\n",
    "    kyoboSalePrice = int(price.replace(',', '').strip())\n",
    "except:\n",
    "    kyoboSalePrice = 0\n",
    "\n",
    "    \n",
    "point = browser.find_element(By.CSS_SELECTOR, '.point_text').text[:-1]\n",
    "kyoboPoint = int(point.replace(',', '').strip())\n",
    "\n",
    "# cover_url,isbn,input_date,title,author,publisher,publishing,rating,review,price,ranking,salePrice,point\n",
    "\n",
    "coverUrl = browser.find_element(By.CSS_SELECTOR, '.portrait_img_box.portrait img').get_attribute('src')\n",
    "\n",
    "print(isbn, title, author, publisher, publishing, coverUrl)\n",
    "\n",
    "print(isbn,inputDate,kyoboPrice,kyoboSalePrice,kyoboPoint)\n",
    "\n",
    "print(isbn,inputDate,kyoboRank,kyoboRating,kyoboReview)\n",
    "\n",
    "# print(isbn,inputDate,kyoboRank,kyoboRating,kyoboReview,yes24Rank,yes24Rating,yes24Review)\n",
    "\n",
    "# print(isbn,inputDate,kyoboPrice,kyoboSalePrice,kyoboPoint,yes24Price,yes24SalePrice,yes24Point)\n",
    "\n",
    "\n",
    "\n",
    "#########\n",
    "# print(isbn, inputDate, averageRating, averageRanking, averageWeekRanking)\n",
    "\n",
    "\n",
    "# try:\n",
    "#     rating_text = browser.find_element(By.CSS_SELECTOR, '.bgGD.total_rating.total_rating_10').text\n",
    "#     rating = browser.find_element(By.CLASS_NAME, 'yes_b').text\n",
    "# except:\n",
    "#     rating = 0\n",
    "\n",
    "# try:\n",
    "#     review = browser.find_element(By.CLASS_NAME, 'txC_blue').text\n",
    "#     review = int(review.replace(',', ''))\n",
    "# except:\n",
    "#     review = 0\n",
    "\n",
    "# sales = browser.find_element(By.CLASS_NAME, 'gd_sellNum').text.split(\" \")[2]\n",
    "# sales = int(sales.replace(',', ''))\n",
    "\n",
    "# price = browser.find_element(By.CLASS_NAME, 'yes_m').text[:-1]\n",
    "# price = int(price.replace(',', ''))\n",
    "\n",
    "\n",
    "# full_text = browser.find_element(By.CLASS_NAME, 'gd_best').text\n",
    "# parts = full_text.split(\" | \")\n",
    "\n",
    "# try:\n",
    "#     ranking_part = parts[0]\n",
    "#     ranking = ''.join(filter(str.isdigit, ranking_part))\n",
    "# except:\n",
    "#     ranking = 0\n",
    "\n",
    "# try:\n",
    "#     ranking_weeks_part = parts[1]\n",
    "#     ranking_weeks = ''.join(filter(str.isdigit, ranking_weeks_part.split()[-1]))\n",
    "# except:\n",
    "#     ranking_weeks = 0\n",
    "\n",
    "# print(title, author, publisher, publishing, rating, review, sales, price, ranking, ranking_weeks)\n",
    "# print(0, str(rating))\n"
   ]
  },
  {
   "cell_type": "code",
   "execution_count": 79,
   "metadata": {},
   "outputs": [
    {
     "ename": "NoSuchElementException",
     "evalue": "Message: no such element: Unable to locate element: {\"method\":\"css selector\",\"selector\":\".sale_price s.val\"}\n  (Session info: chrome=121.0.6167.140); For documentation on this error, please visit: https://www.selenium.dev/documentation/webdriver/troubleshooting/errors#no-such-element-exception\nStacktrace:\n\tGetHandleVerifier [0x00007FF6EBA95E42+3538674]\n\t(No symbol) [0x00007FF6EB6B4C02]\n\t(No symbol) [0x00007FF6EB565AEB]\n\t(No symbol) [0x00007FF6EB5ABF4E]\n\t(No symbol) [0x00007FF6EB5AC0CC]\n\t(No symbol) [0x00007FF6EB5EE477]\n\t(No symbol) [0x00007FF6EB5CF0EF]\n\t(No symbol) [0x00007FF6EB5EBDE3]\n\t(No symbol) [0x00007FF6EB5CEE53]\n\t(No symbol) [0x00007FF6EB59F514]\n\t(No symbol) [0x00007FF6EB5A0631]\n\tGetHandleVerifier [0x00007FF6EBAC6CAD+3738973]\n\tGetHandleVerifier [0x00007FF6EBB1C506+4089270]\n\tGetHandleVerifier [0x00007FF6EBB14823+4057299]\n\tGetHandleVerifier [0x00007FF6EB7E5C49+720121]\n\t(No symbol) [0x00007FF6EB6C126F]\n\t(No symbol) [0x00007FF6EB6BC304]\n\t(No symbol) [0x00007FF6EB6BC432]\n\t(No symbol) [0x00007FF6EB6ABD04]\n\tBaseThreadInitThunk [0x00007FFC09AE257D+29]\n\tRtlUserThreadStart [0x00007FFC0B20AA58+40]\n",
     "output_type": "error",
     "traceback": [
      "\u001b[1;31m---------------------------------------------------------------------------\u001b[0m",
      "\u001b[1;31mNoSuchElementException\u001b[0m                    Traceback (most recent call last)",
      "Cell \u001b[1;32mIn[79], line 48\u001b[0m\n\u001b[0;32m     43\u001b[0m \u001b[38;5;66;03m# 첫 번째 매칭된 숫자만 추출 (문자열 리스트에서 첫 번째 요소를 정수로 변환)\u001b[39;00m\n\u001b[0;32m     44\u001b[0m kyoboReview \u001b[38;5;241m=\u001b[39m \u001b[38;5;28mint\u001b[39m(review[\u001b[38;5;241m0\u001b[39m]) \u001b[38;5;28;01mif\u001b[39;00m review \u001b[38;5;28;01melse\u001b[39;00m \u001b[38;5;28;01mNone\u001b[39;00m\n\u001b[1;32m---> 48\u001b[0m price \u001b[38;5;241m=\u001b[39m \u001b[43mbrowser\u001b[49m\u001b[38;5;241;43m.\u001b[39;49m\u001b[43mfind_element\u001b[49m\u001b[43m(\u001b[49m\u001b[43mBy\u001b[49m\u001b[38;5;241;43m.\u001b[39;49m\u001b[43mCSS_SELECTOR\u001b[49m\u001b[43m,\u001b[49m\u001b[43m \u001b[49m\u001b[38;5;124;43m'\u001b[39;49m\u001b[38;5;124;43m.sale_price s.val\u001b[39;49m\u001b[38;5;124;43m'\u001b[39;49m\u001b[43m)\u001b[49m\u001b[38;5;241m.\u001b[39mtext[:\u001b[38;5;241m-\u001b[39m\u001b[38;5;241m1\u001b[39m]\n\u001b[0;32m     49\u001b[0m kyoboPrice \u001b[38;5;241m=\u001b[39m \u001b[38;5;28mint\u001b[39m(price\u001b[38;5;241m.\u001b[39mreplace(\u001b[38;5;124m'\u001b[39m\u001b[38;5;124m,\u001b[39m\u001b[38;5;124m'\u001b[39m, \u001b[38;5;124m'\u001b[39m\u001b[38;5;124m'\u001b[39m)\u001b[38;5;241m.\u001b[39mstrip())\n\u001b[0;32m     51\u001b[0m kyoboRank \u001b[38;5;241m=\u001b[39m browser\u001b[38;5;241m.\u001b[39mfind_element(By\u001b[38;5;241m.\u001b[39mCSS_SELECTOR, \u001b[38;5;124m'\u001b[39m\u001b[38;5;124m.prod_best_text span.rank\u001b[39m\u001b[38;5;124m'\u001b[39m)\u001b[38;5;241m.\u001b[39mtext\n",
      "File \u001b[1;32mc:\\Users\\khy51\\AppData\\Local\\Programs\\Python\\Python312\\Lib\\site-packages\\selenium\\webdriver\\remote\\webdriver.py:741\u001b[0m, in \u001b[0;36mWebDriver.find_element\u001b[1;34m(self, by, value)\u001b[0m\n\u001b[0;32m    738\u001b[0m     by \u001b[38;5;241m=\u001b[39m By\u001b[38;5;241m.\u001b[39mCSS_SELECTOR\n\u001b[0;32m    739\u001b[0m     value \u001b[38;5;241m=\u001b[39m \u001b[38;5;124mf\u001b[39m\u001b[38;5;124m'\u001b[39m\u001b[38;5;124m[name=\u001b[39m\u001b[38;5;124m\"\u001b[39m\u001b[38;5;132;01m{\u001b[39;00mvalue\u001b[38;5;132;01m}\u001b[39;00m\u001b[38;5;124m\"\u001b[39m\u001b[38;5;124m]\u001b[39m\u001b[38;5;124m'\u001b[39m\n\u001b[1;32m--> 741\u001b[0m \u001b[38;5;28;01mreturn\u001b[39;00m \u001b[38;5;28;43mself\u001b[39;49m\u001b[38;5;241;43m.\u001b[39;49m\u001b[43mexecute\u001b[49m\u001b[43m(\u001b[49m\u001b[43mCommand\u001b[49m\u001b[38;5;241;43m.\u001b[39;49m\u001b[43mFIND_ELEMENT\u001b[49m\u001b[43m,\u001b[49m\u001b[43m \u001b[49m\u001b[43m{\u001b[49m\u001b[38;5;124;43m\"\u001b[39;49m\u001b[38;5;124;43musing\u001b[39;49m\u001b[38;5;124;43m\"\u001b[39;49m\u001b[43m:\u001b[49m\u001b[43m \u001b[49m\u001b[43mby\u001b[49m\u001b[43m,\u001b[49m\u001b[43m \u001b[49m\u001b[38;5;124;43m\"\u001b[39;49m\u001b[38;5;124;43mvalue\u001b[39;49m\u001b[38;5;124;43m\"\u001b[39;49m\u001b[43m:\u001b[49m\u001b[43m \u001b[49m\u001b[43mvalue\u001b[49m\u001b[43m}\u001b[49m\u001b[43m)\u001b[49m[\u001b[38;5;124m\"\u001b[39m\u001b[38;5;124mvalue\u001b[39m\u001b[38;5;124m\"\u001b[39m]\n",
      "File \u001b[1;32mc:\\Users\\khy51\\AppData\\Local\\Programs\\Python\\Python312\\Lib\\site-packages\\selenium\\webdriver\\remote\\webdriver.py:347\u001b[0m, in \u001b[0;36mWebDriver.execute\u001b[1;34m(self, driver_command, params)\u001b[0m\n\u001b[0;32m    345\u001b[0m response \u001b[38;5;241m=\u001b[39m \u001b[38;5;28mself\u001b[39m\u001b[38;5;241m.\u001b[39mcommand_executor\u001b[38;5;241m.\u001b[39mexecute(driver_command, params)\n\u001b[0;32m    346\u001b[0m \u001b[38;5;28;01mif\u001b[39;00m response:\n\u001b[1;32m--> 347\u001b[0m     \u001b[38;5;28;43mself\u001b[39;49m\u001b[38;5;241;43m.\u001b[39;49m\u001b[43merror_handler\u001b[49m\u001b[38;5;241;43m.\u001b[39;49m\u001b[43mcheck_response\u001b[49m\u001b[43m(\u001b[49m\u001b[43mresponse\u001b[49m\u001b[43m)\u001b[49m\n\u001b[0;32m    348\u001b[0m     response[\u001b[38;5;124m\"\u001b[39m\u001b[38;5;124mvalue\u001b[39m\u001b[38;5;124m\"\u001b[39m] \u001b[38;5;241m=\u001b[39m \u001b[38;5;28mself\u001b[39m\u001b[38;5;241m.\u001b[39m_unwrap_value(response\u001b[38;5;241m.\u001b[39mget(\u001b[38;5;124m\"\u001b[39m\u001b[38;5;124mvalue\u001b[39m\u001b[38;5;124m\"\u001b[39m, \u001b[38;5;28;01mNone\u001b[39;00m))\n\u001b[0;32m    349\u001b[0m     \u001b[38;5;28;01mreturn\u001b[39;00m response\n",
      "File \u001b[1;32mc:\\Users\\khy51\\AppData\\Local\\Programs\\Python\\Python312\\Lib\\site-packages\\selenium\\webdriver\\remote\\errorhandler.py:229\u001b[0m, in \u001b[0;36mErrorHandler.check_response\u001b[1;34m(self, response)\u001b[0m\n\u001b[0;32m    227\u001b[0m         alert_text \u001b[38;5;241m=\u001b[39m value[\u001b[38;5;124m\"\u001b[39m\u001b[38;5;124malert\u001b[39m\u001b[38;5;124m\"\u001b[39m]\u001b[38;5;241m.\u001b[39mget(\u001b[38;5;124m\"\u001b[39m\u001b[38;5;124mtext\u001b[39m\u001b[38;5;124m\"\u001b[39m)\n\u001b[0;32m    228\u001b[0m     \u001b[38;5;28;01mraise\u001b[39;00m exception_class(message, screen, stacktrace, alert_text)  \u001b[38;5;66;03m# type: ignore[call-arg]  # mypy is not smart enough here\u001b[39;00m\n\u001b[1;32m--> 229\u001b[0m \u001b[38;5;28;01mraise\u001b[39;00m exception_class(message, screen, stacktrace)\n",
      "\u001b[1;31mNoSuchElementException\u001b[0m: Message: no such element: Unable to locate element: {\"method\":\"css selector\",\"selector\":\".sale_price s.val\"}\n  (Session info: chrome=121.0.6167.140); For documentation on this error, please visit: https://www.selenium.dev/documentation/webdriver/troubleshooting/errors#no-such-element-exception\nStacktrace:\n\tGetHandleVerifier [0x00007FF6EBA95E42+3538674]\n\t(No symbol) [0x00007FF6EB6B4C02]\n\t(No symbol) [0x00007FF6EB565AEB]\n\t(No symbol) [0x00007FF6EB5ABF4E]\n\t(No symbol) [0x00007FF6EB5AC0CC]\n\t(No symbol) [0x00007FF6EB5EE477]\n\t(No symbol) [0x00007FF6EB5CF0EF]\n\t(No symbol) [0x00007FF6EB5EBDE3]\n\t(No symbol) [0x00007FF6EB5CEE53]\n\t(No symbol) [0x00007FF6EB59F514]\n\t(No symbol) [0x00007FF6EB5A0631]\n\tGetHandleVerifier [0x00007FF6EBAC6CAD+3738973]\n\tGetHandleVerifier [0x00007FF6EBB1C506+4089270]\n\tGetHandleVerifier [0x00007FF6EBB14823+4057299]\n\tGetHandleVerifier [0x00007FF6EB7E5C49+720121]\n\t(No symbol) [0x00007FF6EB6C126F]\n\t(No symbol) [0x00007FF6EB6BC304]\n\t(No symbol) [0x00007FF6EB6BC432]\n\t(No symbol) [0x00007FF6EB6ABD04]\n\tBaseThreadInitThunk [0x00007FFC09AE257D+29]\n\tRtlUserThreadStart [0x00007FFC0B20AA58+40]\n"
     ]
    }
   ],
   "source": [
    "# 데이터 베이스 연동 후 -> 수집한 데이터를 DB에 저장 (csv)\n",
    "import pymysql, pass1, time, re\n",
    "from datetime import datetime\n",
    "\n",
    "conn = pymysql.connect(\n",
    "    host='localhost',\n",
    "    user='root',\n",
    "    password= pass1.password(),\n",
    "    db = 'booksminiproject',\n",
    "    cursorclass = pymysql.cursors.DictCursor\n",
    ")\n",
    "\n",
    "with conn.cursor() as cur:\n",
    "\n",
    "    for link in link_list:\n",
    "        browser.get(link)\n",
    "\n",
    "        title = browser.find_element(By.CLASS_NAME, 'prod_title').text\n",
    "        author = browser.find_element(By.CLASS_NAME, 'author').text\n",
    "\n",
    "        a_element = browser.find_element(By.CSS_SELECTOR, 'div.prod_info_text.publish_date a.btn_publish_link')\n",
    "        publisher = a_element.text\n",
    "\n",
    "        # <div> 태그 안의 텍스트 추출 (전체 div의 텍스트에서 <a> 태그의 텍스트를 제외한 나머지)\n",
    "        div_element = browser.find_element(By.CSS_SELECTOR, 'div.prod_info_text.publish_date')\n",
    "        # <a> 태그의 텍스트와 \" · \" 문자열을 제거하여 최종 텍스트 추출\n",
    "        publishing = div_element.text.replace(a, '').replace(' · ', '').strip()\n",
    "        match = re.search(r'(\\d+)년 (\\d+)월 (\\d+)일', publishing)\n",
    "        year, month, day = match.groups()\n",
    "        data_obj = datetime(int(year), int(month), int(day))\n",
    "        publishing = data_obj.strftime(\"%Y-%m-%d\")\n",
    "\n",
    "        inputDate = datetime.now().strftime('%Y-%m-%d')\n",
    "\n",
    "        isbn = browser.find_element(By.CSS_SELECTOR, '.tbl_row tbody tr td').text\n",
    "\n",
    "\n",
    "        kyoboRating = browser.find_element(By.CSS_SELECTOR, '.caption-badge.caption-secondary span.val').text\n",
    "\n",
    "\n",
    "        text = browser.find_element(By.CSS_SELECTOR, '.product_detail_area.klover_review_wrap p.title_heading').text\n",
    "        review = re.findall(r'\\((\\d+)\\)', text)\n",
    "        # 첫 번째 매칭된 숫자만 추출 (문자열 리스트에서 첫 번째 요소를 정수로 변환)\n",
    "        kyoboReview = int(review[0]) if review else None\n",
    "\n",
    "\n",
    "\n",
    "        price = browser.find_element(By.CSS_SELECTOR, '.sale_price s.val').text[:-1]\n",
    "        kyoboPrice = int(price.replace(',', '').strip())\n",
    "\n",
    "        kyoboRank = browser.find_element(By.CSS_SELECTOR, '.prod_best_text span.rank').text\n",
    "\n",
    "        price = browser.find_element(By.CSS_SELECTOR, '.prod_price span.price span.val').text[:-1]\n",
    "        kyoboSalePrice = int(price.replace(',', '').strip())\n",
    "\n",
    "        point = browser.find_element(By.CSS_SELECTOR, '.point_text').text[:-1]\n",
    "        kyoboPoint = int(point.replace(',', '').strip())\n",
    "\n",
    "        # cover_url,isbn,input_date,title,author,publisher,publishing,rating,review,price,ranking,salePrice,point\n",
    "\n",
    "        coverUrl = browser.find_element(By.CSS_SELECTOR, '.portrait_img_box.portrait img').get_attribute('src')\n",
    "\n",
    "        sql = \"\"\"INSERT INTO books(\n",
    "            isbn, title, author, publisher, publishing, coverUrl\n",
    "            )\n",
    "            VALUES(\n",
    "                %s,%s,%s,%s,%s,%s\n",
    "            )\n",
    "            \"\"\"\n",
    "        cur.execute(sql, (isbn, title, author, publisher, publishing, coverUrl))\n",
    "\n",
    "\n",
    "        sql = \"\"\"INSERT INTO price(\n",
    "            isbn,inputDate,kyoboPrice,kyoboSalePrice,kyoboPoint\n",
    "            )\n",
    "            VALUES(\n",
    "                %s,%s,%s,%s,%s\n",
    "            )\n",
    "            \"\"\"\n",
    "        cur.execute(sql, (isbn,inputDate,kyoboPrice,kyoboSalePrice,kyoboPoint))\n",
    "\n",
    "\n",
    "        sql = \"\"\"INSERT INTO ranking(\n",
    "            isbn,inputDate,kyoboRank,kyoboRating,kyoboReview\n",
    "            )\n",
    "            VALUES(\n",
    "                %s,%s,%s,%s,%s\n",
    "            )\n",
    "            \"\"\"\n",
    "        cur.execute(sql, (isbn,inputDate,kyoboRank,kyoboRating,kyoboReview))\n",
    "\n",
    "\n",
    "\n",
    "\n",
    "        conn.commit()\n",
    "\n",
    "        time.sleep(2)\n",
    "\n"
   ]
  },
  {
   "cell_type": "code",
   "execution_count": null,
   "metadata": {},
   "outputs": [],
   "source": [
    "# 데이터 베이스 연동 후 -> 수집한 데이터를 DB에 저장 (csv)\n",
    "import pymysql, pass1, time, re\n",
    "from datetime import datetime\n",
    "\n",
    "conn = pymysql.connect(\n",
    "    host='localhost',\n",
    "    user='root',\n",
    "    password= pass1.password(),\n",
    "    db = 'yes24',\n",
    "    cursorclass = pymysql.cursors.DictCursor\n",
    ")\n",
    "\n",
    "with conn.cursor() as cur:\n",
    "\n",
    "    for link in link_list:\n",
    "        browser.get(link)\n",
    "\n",
    "        title = browser.find_element(By.CLASS_NAME, 'gd_name').text\n",
    "        author = browser.find_element(By.CLASS_NAME, 'gd_auth').text\n",
    "        publisher = browser.find_element(By.CLASS_NAME, 'gd_pub').text\n",
    "\n",
    "\n",
    "        publishing = browser.find_element(By.CLASS_NAME, 'gd_date').text\n",
    "        \n",
    "        match = re.search(r'(\\d+)년 (\\d+)월 (\\d+)일', publishing)\n",
    "\n",
    "\n",
    "        if match:\n",
    "            year, month, day = match.groups()\n",
    "            data_obj = datetime(int(year), int(month), int(day))\n",
    "            publishing = data_obj.strftime(\"%Y-%m-%d\")\n",
    "        else:\n",
    "            publishing = \"2023-01-01\"\n",
    "\n",
    "\n",
    "        try:\n",
    "            rating_text = browser.find_element(By.CSS_SELECTOR, '.bgGD.total_rating.total_rating_10').text\n",
    "            rating = browser.find_element(By.CLASS_NAME, 'yes_b').text\n",
    "        except:\n",
    "            rating = 0\n",
    "\n",
    "        try:\n",
    "            review = browser.find_element(By.CLASS_NAME, 'txC_blue').text\n",
    "            review = int(review.replace(',', ''))\n",
    "        except:\n",
    "            review = '0'\n",
    "\n",
    "        sales = browser.find_element(By.CLASS_NAME, 'gd_sellNum').text.split(\" \")[2]\n",
    "        sales = int(sales.replace(',', ''))\n",
    "\n",
    "        price = browser.find_element(By.CLASS_NAME, 'yes_m').text[:-1]\n",
    "        price = int(price.replace(',', ''))\n",
    "\n",
    "        \n",
    "        full_text = browser.find_element(By.CLASS_NAME, 'gd_best').text\n",
    "        parts = full_text.split(\" | \")\n",
    "\n",
    "        try:\n",
    "            ranking_part = parts[0]\n",
    "            ranking = ''.join(filter(str.isdigit, ranking_part))\n",
    "        except:\n",
    "            ranking = 0\n",
    "\n",
    "        try:\n",
    "            ranking_weeks_part = parts[1]\n",
    "            ranking_weeks = ''.join(filter(str.isdigit, ranking_weeks_part.split()[-1]))\n",
    "        except:\n",
    "            ranking_weeks = 0\n",
    "\n",
    "\n",
    "        sql = \"\"\"INSERT INTO books(\n",
    "            title, author, publisher, publishing, rating, review, sales, price, ranking, ranking_weeks\n",
    "            )\n",
    "            VALUES(\n",
    "                %s,%s,%s,%s,%s,%s,%s,%s,%s,%s\n",
    "            )\n",
    "            \"\"\"\n",
    "        cur.execute(sql, (title, author, publisher, publishing, rating, review, sales, price, ranking, ranking_weeks))\n",
    "        conn.commit()\n",
    "\n",
    "        time.sleep(2)\n",
    "\n"
   ]
  }
 ],
 "metadata": {
  "kernelspec": {
   "display_name": "Python 3",
   "language": "python",
   "name": "python3"
  },
  "language_info": {
   "codemirror_mode": {
    "name": "ipython",
    "version": 3
   },
   "file_extension": ".py",
   "mimetype": "text/x-python",
   "name": "python",
   "nbconvert_exporter": "python",
   "pygments_lexer": "ipython3",
   "version": "3.12.1"
  }
 },
 "nbformat": 4,
 "nbformat_minor": 2
}
