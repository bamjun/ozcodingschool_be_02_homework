{
 "cells": [
  {
   "cell_type": "markdown",
   "metadata": {},
   "source": [
    "### yes 24 크롤링\n",
    "[학습자료](https://visioneer.notion.site/05-Mini-Project-24-9ea5c5071c55435c96d4a7b32f599c7c)"
   ]
  },
  {
   "cell_type": "code",
   "execution_count": 1,
   "metadata": {},
   "outputs": [
    {
     "data": {
      "text/plain": [
       "'C:\\\\Users\\\\khy51\\\\.wdm\\\\drivers\\\\chromedriver\\\\win64\\\\121.0.6167.85\\\\chromedriver-win32/chromedriver.exe'"
      ]
     },
     "execution_count": 1,
     "metadata": {},
     "output_type": "execute_result"
    }
   ],
   "source": [
    "# webdriver-manager 라이브러리 불러오기\n",
    "from webdriver_manager.chrome import ChromeDriverManager\n",
    "ChromeDriverManager().install()"
   ]
  },
  {
   "cell_type": "code",
   "execution_count": 2,
   "metadata": {},
   "outputs": [],
   "source": [
    "from selenium import webdriver\n",
    "browser = webdriver.Chrome()"
   ]
  },
  {
   "cell_type": "markdown",
   "metadata": {},
   "source": [
    "### 예스24 데이터"
   ]
  },
  {
   "cell_type": "code",
   "execution_count": 3,
   "metadata": {},
   "outputs": [],
   "source": [
    "url = 'https://www.yes24.com/Product/Category/BestSeller?categoryNumber=001&pageNumber=1&pageSize=24'\n",
    "browser.get(url)"
   ]
  },
  {
   "cell_type": "code",
   "execution_count": 6,
   "metadata": {},
   "outputs": [
    {
     "name": "stdout",
     "output_type": "stream",
     "text": [
      "https://www.yes24.com/Product/Goods/86545658\n",
      "https://www.yes24.com/Product/Goods/122428674\n",
      "https://www.yes24.com/Product/Goods/116255710\n",
      "https://www.yes24.com/Product/Goods/69622442\n",
      "https://www.yes24.com/Product/Goods/124539501\n",
      "https://www.yes24.com/Product/Goods/124128412\n",
      "https://www.yes24.com/Product/Goods/123669027\n",
      "https://www.yes24.com/Product/Goods/124129609\n",
      "https://www.yes24.com/Product/Goods/122786298\n",
      "https://www.yes24.com/Product/Goods/117627077\n",
      "https://www.yes24.com/Product/Goods/124341408\n",
      "https://www.yes24.com/Product/Goods/116020471\n",
      "https://www.yes24.com/Product/Goods/124212922\n",
      "https://www.yes24.com/Product/Goods/123180586\n",
      "https://www.yes24.com/Product/Goods/111088149\n",
      "https://www.yes24.com/Product/Goods/121772149\n",
      "https://www.yes24.com/Product/Goods/124768983\n",
      "https://www.yes24.com/Product/Goods/124490065\n",
      "https://www.yes24.com/Product/Goods/19103599\n",
      "https://www.yes24.com/Product/Goods/124341067\n",
      "https://www.yes24.com/Product/Goods/96547408\n",
      "https://www.yes24.com/Product/Goods/124397544\n",
      "https://www.yes24.com/Product/Goods/124017175\n",
      "https://www.yes24.com/Product/Goods/124720040\n"
     ]
    }
   ],
   "source": [
    "from selenium.webdriver.common.by import By\n",
    "# 1페이지의 링크 데이터 전부 수집\n",
    "\n",
    "### 한개의 베스트 셀러 링크 수집\n",
    "browser.find_element(By.CLASS_NAME, 'gd_name').get_attribute('href')\n",
    "\n",
    "### 1페이지 전체의 링크데이터\n",
    "# browser.find_element(By.CLASS_NAME, 'gd_name').get_attribute('href')\n",
    "datas = browser.find_elements(By.CLASS_NAME, 'gd_name')\n",
    "for i in datas:\n",
    "    print(i.get_attribute('href'))"
   ]
  },
  {
   "cell_type": "code",
   "execution_count": 9,
   "metadata": {},
   "outputs": [
    {
     "name": "stdout",
     "output_type": "stream",
     "text": [
      "********** 현재 1 페이지 수집 중 입니다. **********\n",
      "********** 현재 2 페이지 수집 중 입니다. **********\n",
      "********** 현재 3 페이지 수집 중 입니다. **********\n",
      "['https://www.yes24.com/Product/Goods/122120495', 'https://www.yes24.com/Product/Goods/123675187', 'https://www.yes24.com/Product/Goods/117014613', 'https://www.yes24.com/Product/Goods/124702623', 'https://www.yes24.com/Product/Goods/124644663', 'https://www.yes24.com/Product/Goods/124043812', 'https://www.yes24.com/Product/Goods/124043802', 'https://www.yes24.com/Product/Goods/123400303', 'https://www.yes24.com/Product/Goods/124644681', 'https://www.yes24.com/Product/Goods/122090360', 'https://www.yes24.com/Product/Goods/124539805', 'https://www.yes24.com/Product/Goods/122944685', 'https://www.yes24.com/Product/Goods/118579613', 'https://www.yes24.com/Product/Goods/118413014', 'https://www.yes24.com/Product/Goods/124110821', 'https://www.yes24.com/Product/Goods/124702605', 'https://www.yes24.com/Product/Goods/124849202', 'https://www.yes24.com/Product/Goods/122428190', 'https://www.yes24.com/Product/Goods/119562091', 'https://www.yes24.com/Product/Goods/124112599', 'https://www.yes24.com/Product/Goods/119458052', 'https://www.yes24.com/Product/Goods/124501342', 'https://www.yes24.com/Product/Goods/124807552', 'https://www.yes24.com/Product/Goods/124472824', 'https://www.yes24.com/Product/Goods/124707232', 'https://www.yes24.com/Product/Goods/119120517', 'https://www.yes24.com/Product/Goods/79297023', 'https://www.yes24.com/Product/Goods/124397623', 'https://www.yes24.com/Product/Goods/96072143', 'https://www.yes24.com/Product/Goods/124127709', 'https://www.yes24.com/Product/Goods/123318244', 'https://www.yes24.com/Product/Goods/124301348', 'https://www.yes24.com/Product/Goods/122880691', 'https://www.yes24.com/Product/Goods/122433629', 'https://www.yes24.com/Product/Goods/124574394', 'https://www.yes24.com/Product/Goods/122426425', 'https://www.yes24.com/Product/Goods/9349031', 'https://www.yes24.com/Product/Goods/123930891', 'https://www.yes24.com/Product/Goods/118569079', 'https://www.yes24.com/Product/Goods/8759796', 'https://www.yes24.com/Product/Goods/123930880', 'https://www.yes24.com/Product/Goods/124719615', 'https://www.yes24.com/Product/Goods/90428162', 'https://www.yes24.com/Product/Goods/79208821', 'https://www.yes24.com/Product/Goods/116467955', 'https://www.yes24.com/Product/Goods/124213903', 'https://www.yes24.com/Product/Goods/67362730', 'https://www.yes24.com/Product/Goods/124408170', 'https://www.yes24.com/Product/Goods/124852714', 'https://www.yes24.com/Product/Goods/124106975', 'https://www.yes24.com/Product/Goods/124339743', 'https://www.yes24.com/Product/Goods/124014108', 'https://www.yes24.com/Product/Goods/124608779', 'https://www.yes24.com/Product/Goods/91868954', 'https://www.yes24.com/Product/Goods/124157362', 'https://www.yes24.com/Product/Goods/121911671', 'https://www.yes24.com/Product/Goods/124702295', 'https://www.yes24.com/Product/Goods/124717965', 'https://www.yes24.com/Product/Goods/124106985', 'https://www.yes24.com/Product/Goods/124645703', 'https://www.yes24.com/Product/Goods/124865526', 'https://www.yes24.com/Product/Goods/124644662', 'https://www.yes24.com/Product/Goods/114853233', 'https://www.yes24.com/Product/Goods/124315134', 'https://www.yes24.com/Product/Goods/123126171', 'https://www.yes24.com/Product/Goods/124733569', 'https://www.yes24.com/Product/Goods/120761010', 'https://www.yes24.com/Product/Goods/124472691', 'https://www.yes24.com/Product/Goods/118578901', 'https://www.yes24.com/Product/Goods/96794060', 'https://www.yes24.com/Product/Goods/124027690', 'https://www.yes24.com/Product/Goods/124219505']\n"
     ]
    }
   ],
   "source": [
    "# 3페이지의 링크 데이터 전부 수집\n",
    "import time\n",
    "\n",
    "link_list = []\n",
    "for x in range(1, 4):\n",
    "    print(\"*\"*10, f'현재 {x} 페이지 수집 중 입니다.', '*'*10)\n",
    "    url = f'https://www.yes24.com/Product/Category/BestSeller?categoryNumber=001&pageNumber={x}&pageSize=24'\n",
    "    browser.get(url)\n",
    "\n",
    "    datas = browser.find_elements(By.CLASS_NAME, 'gd_name')\n",
    "    for i in datas:\n",
    "        link = i.get_attribute('href')\n",
    "        link_list.append(link)\n",
    "    time.sleep(3)\n",
    "\n",
    "print(link_list)\n"
   ]
  },
  {
   "cell_type": "code",
   "execution_count": 10,
   "metadata": {},
   "outputs": [
    {
     "data": {
      "text/plain": [
       "72"
      ]
     },
     "execution_count": 10,
     "metadata": {},
     "output_type": "execute_result"
    }
   ],
   "source": [
    "len(link_list)"
   ]
  },
  {
   "cell_type": "code",
   "execution_count": 11,
   "metadata": {},
   "outputs": [
    {
     "ename": "NameError",
     "evalue": "name 're' is not defined",
     "output_type": "error",
     "traceback": [
      "\u001b[1;31m---------------------------------------------------------------------------\u001b[0m",
      "\u001b[1;31mNameError\u001b[0m                                 Traceback (most recent call last)",
      "Cell \u001b[1;32mIn[11], line 13\u001b[0m\n\u001b[0;32m      8\u001b[0m publisher \u001b[38;5;241m=\u001b[39m browser\u001b[38;5;241m.\u001b[39mfind_element(By\u001b[38;5;241m.\u001b[39mCLASS_NAME, \u001b[38;5;124m'\u001b[39m\u001b[38;5;124mgd_pub\u001b[39m\u001b[38;5;124m'\u001b[39m)\u001b[38;5;241m.\u001b[39mtext\n\u001b[0;32m     11\u001b[0m publishing \u001b[38;5;241m=\u001b[39m browser\u001b[38;5;241m.\u001b[39mfind_element(By\u001b[38;5;241m.\u001b[39mCLASS_NAME, \u001b[38;5;124m'\u001b[39m\u001b[38;5;124mgd_date\u001b[39m\u001b[38;5;124m'\u001b[39m)\u001b[38;5;241m.\u001b[39mtext\n\u001b[1;32m---> 13\u001b[0m match \u001b[38;5;241m=\u001b[39m \u001b[43mre\u001b[49m\u001b[38;5;241m.\u001b[39msearch(\u001b[38;5;124mr\u001b[39m\u001b[38;5;124m'\u001b[39m\u001b[38;5;124m(\u001b[39m\u001b[38;5;124m\\\u001b[39m\u001b[38;5;124md+)년 (\u001b[39m\u001b[38;5;124m\\\u001b[39m\u001b[38;5;124md+)월 (\u001b[39m\u001b[38;5;124m\\\u001b[39m\u001b[38;5;124md+)일\u001b[39m\u001b[38;5;124m'\u001b[39m, publishing)\n\u001b[0;32m     16\u001b[0m \u001b[38;5;28;01mif\u001b[39;00m match:\n\u001b[0;32m     17\u001b[0m     year, month, day \u001b[38;5;241m=\u001b[39m match\u001b[38;5;241m.\u001b[39mgroups()\n",
      "\u001b[1;31mNameError\u001b[0m: name 're' is not defined"
     ]
    }
   ],
   "source": [
    "# for link in link_list:\n",
    "#     browser.get(link)\n",
    "# 테스트용.\n",
    "\n",
    "browser.get(link_list[0])\n",
    "title = browser.find_element(By.CLASS_NAME, 'gd_name').text\n",
    "author = browser.find_element(By.CLASS_NAME, 'gd_auth').text\n",
    "publisher = browser.find_element(By.CLASS_NAME, 'gd_pub').text\n",
    "\n",
    "\n",
    "publishing = browser.find_element(By.CLASS_NAME, 'gd_date').text\n",
    "\n",
    "match = re.search(r'(\\d+)년 (\\d+)월 (\\d+)일', publishing)\n",
    "\n",
    "\n",
    "if match:\n",
    "    year, month, day = match.groups()\n",
    "    data_obj = datetime(int(year), int(month), int(day))\n",
    "    publishing = data_obj.strftime(\"%Y-%m-%d\")\n",
    "else:\n",
    "    publishing = \"2023-01-01\"\n",
    "\n",
    "try:\n",
    "    rating_text = browser.find_element(By.CSS_SELECTOR, '.bgGD.total_rating.total_rating_10').text\n",
    "    rating = browser.find_element(By.CLASS_NAME, 'yes_b').text\n",
    "except:\n",
    "    rating = 0\n",
    "\n",
    "try:\n",
    "    review = browser.find_element(By.CLASS_NAME, 'txC_blue').text\n",
    "    review = int(review.replace(',', ''))\n",
    "except:\n",
    "    review = 0\n",
    "\n",
    "sales = browser.find_element(By.CLASS_NAME, 'gd_sellNum').text.split(\" \")[2]\n",
    "sales = int(sales.replace(',', ''))\n",
    "\n",
    "price = browser.find_element(By.CLASS_NAME, 'yes_m').text[:-1]\n",
    "price = int(price.replace(',', ''))\n",
    "\n",
    "\n",
    "full_text = browser.find_element(By.CLASS_NAME, 'gd_best').text\n",
    "parts = full_text.split(\" | \")\n",
    "\n",
    "try:\n",
    "    ranking_part = parts[0]\n",
    "    ranking = ''.join(filter(str.isdigit, ranking_part))\n",
    "except:\n",
    "    ranking = 0\n",
    "\n",
    "try:\n",
    "    ranking_weeks_part = parts[1]\n",
    "    ranking_weeks = ''.join(filter(str.isdigit, ranking_weeks_part.split()[-1]))\n",
    "except:\n",
    "    ranking_weeks = 0\n",
    "\n",
    "print(title, author, publisher, publishing, rating, review, sales, price, ranking, ranking_weeks)\n",
    "print(0, str(rating))\n"
   ]
  },
  {
   "cell_type": "code",
   "execution_count": 13,
   "metadata": {},
   "outputs": [],
   "source": [
    "# 데이터 베이스 연동 후 -> 수집한 데이터를 DB에 저장 (csv)\n",
    "import pymysql, pass1, time, re\n",
    "from datetime import datetime\n",
    "\n",
    "conn = pymysql.connect(\n",
    "    host='localhost',\n",
    "    user='root',\n",
    "    password= pass1.password(),\n",
    "    db = 'yes24',\n",
    "    cursorclass = pymysql.cursors.DictCursor\n",
    ")\n",
    "\n",
    "with conn.cursor() as cur:\n",
    "\n",
    "    for link in link_list:\n",
    "        browser.get(link)\n",
    "\n",
    "        title = browser.find_element(By.CLASS_NAME, 'gd_name').text\n",
    "        author = browser.find_element(By.CLASS_NAME, 'gd_auth').text\n",
    "        publisher = browser.find_element(By.CLASS_NAME, 'gd_pub').text\n",
    "\n",
    "\n",
    "        publishing = browser.find_element(By.CLASS_NAME, 'gd_date').text\n",
    "        \n",
    "        match = re.search(r'(\\d+)년 (\\d+)월 (\\d+)일', publishing)\n",
    "\n",
    "\n",
    "        if match:\n",
    "            year, month, day = match.groups()\n",
    "            data_obj = datetime(int(year), int(month), int(day))\n",
    "            publishing = data_obj.strftime(\"%Y-%m-%d\")\n",
    "        else:\n",
    "            publishing = \"2023-01-01\"\n",
    "\n",
    "\n",
    "        try:\n",
    "            rating_text = browser.find_element(By.CSS_SELECTOR, '.bgGD.total_rating.total_rating_10').text\n",
    "            rating = browser.find_element(By.CLASS_NAME, 'yes_b').text\n",
    "        except:\n",
    "            rating = 0\n",
    "\n",
    "        try:\n",
    "            review = browser.find_element(By.CLASS_NAME, 'txC_blue').text\n",
    "            review = int(review.replace(',', ''))\n",
    "        except:\n",
    "            review = '0'\n",
    "\n",
    "        sales = browser.find_element(By.CLASS_NAME, 'gd_sellNum').text.split(\" \")[2]\n",
    "        sales = int(sales.replace(',', ''))\n",
    "\n",
    "        price = browser.find_element(By.CLASS_NAME, 'yes_m').text[:-1]\n",
    "        price = int(price.replace(',', ''))\n",
    "\n",
    "        \n",
    "        full_text = browser.find_element(By.CLASS_NAME, 'gd_best').text\n",
    "        parts = full_text.split(\" | \")\n",
    "\n",
    "        try:\n",
    "            ranking_part = parts[0]\n",
    "            ranking = ''.join(filter(str.isdigit, ranking_part))\n",
    "        except:\n",
    "            ranking = 0\n",
    "\n",
    "        try:\n",
    "            ranking_weeks_part = parts[1]\n",
    "            ranking_weeks = ''.join(filter(str.isdigit, ranking_weeks_part.split()[-1]))\n",
    "        except:\n",
    "            ranking_weeks = 0\n",
    "\n",
    "\n",
    "        sql = \"\"\"INSERT INTO books(\n",
    "            title, author, publisher, publishing, rating, review, sales, price, ranking, ranking_weeks\n",
    "            )\n",
    "            VALUES(\n",
    "                %s,%s,%s,%s,%s,%s,%s,%s,%s,%s\n",
    "            )\n",
    "            \"\"\"\n",
    "        cur.execute(sql, (title, author, publisher, publishing, rating, review, sales, price, ranking, ranking_weeks))\n",
    "        conn.commit()\n",
    "\n",
    "        time.sleep(2)\n",
    "\n"
   ]
  }
 ],
 "metadata": {
  "kernelspec": {
   "display_name": "Python 3",
   "language": "python",
   "name": "python3"
  },
  "language_info": {
   "codemirror_mode": {
    "name": "ipython",
    "version": 3
   },
   "file_extension": ".py",
   "mimetype": "text/x-python",
   "name": "python",
   "nbconvert_exporter": "python",
   "pygments_lexer": "ipython3",
   "version": "3.12.1"
  }
 },
 "nbformat": 4,
 "nbformat_minor": 2
}
