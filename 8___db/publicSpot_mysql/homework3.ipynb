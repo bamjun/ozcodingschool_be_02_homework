{
 "cells": [
  {
   "cell_type": "code",
   "execution_count": 8,
   "metadata": {},
   "outputs": [
    {
     "name": "stdout",
     "output_type": "stream",
     "text": [
      "(' 2085-14, Olympic-daero, Seocho-gu, Seoul ', 'SeoulNightViewSpots,RainbowFountain,Walking,Seoul,DateNight,BanpoNightView,HangangDate,SeoulTravel,BanpoBridgeMoonlightRainbowFountain,SeoulAtNight,SeoulScenery,NightView,Park,BanpodaegyoBridge,HangangParkBanpodaegyoBridge,BanpoHangangPark', 'https://english.visitseoul.net/attractions/Night-Views-at-Banpodaegyo-Bridge/ENP016325?utm_source=seoulopendata&utm_medium=attractions&utm_content=ENP016325', 'None', 'None', 'None', 'None', 'None', 'Night Views at Banpodaegyo Bridge', ' 649, Banpo-dong, Seocho-gu, Seoul (North end of Banpodaegyo Bridge Bridge)', 'en', '+82-2-3780-0578', 'None', 'None', 16406)\n",
      "('03037 45, Pilwoon-daero, Jongno-gu, Seoul ', 'SeochonHanokVillage,HanokViIllage,Seochon', 'https://english.visitseoul.net/attractions/SeochonHanokVillage/ENPhyd9ee?utm_source=seoulopendata&utm_medium=attractions&utm_content=ENPhyd9ee', 'None', 'None', 'None', 'Subway Line 5, Gyeongbokgung Station', 'None', 'Seochon Hanok Village', '  ', 'en', 'None', 'None', 'None', 44217)\n",
      "('04383 185, Seobinggo-ro, Yongsan-gu, Seoul, Korea (용산공원) ', ' nature,park, historic site', 'https://english.visitseoul.net/attractions/YongsanPark/ENP001306?utm_source=seoulopendata&utm_medium=attractions&utm_content=ENP001306', 'None', '\\tSundays, national holidays.', 'None', '\\tJungang Line Seobinggo Stn. 500m from Exit 1   \\nLine 4 Ichon Stn. 300m from Exit 2', '11:00 ~ 21:30 \\r\\n11 a.m. - 3:30 p.m., 5 p.m. - 9:30 p.m.', 'Yongsan Park', '140-026 68-90, Yongsan-dong 6(yuk)-ga, Yongsan-gu, Seoul, Korea ', 'en', '+82\\t02-792-5661', '\\thttp://munha.yongsan.go.kr/pms/contents/contents.do?contseqn=1018&sitecdv=S0000701&decorator=user07Ct&menucdv=01020200', '\\tMonday Tuesday Wednesday Thursday Friday Saturday Sunday', 1308)\n",
      "('03124 17-3 Yulgok-ro 30-gil, Jongno-gu, Seoul ', 'OraeGage, Hanbang, Herbal Medicine, Dongdaemun Station, Seoulfutureheritage, Jongno 5-ga, Hanbang Treatment', 'https://english.visitseoul.net/attractions/Yuil-Oriental-Medicine-Clinic/ENP027814?utm_source=seoulopendata&utm_medium=attractions&utm_content=ENP027814', 'None', 'Weekends', 'None', '192 meters from Exit 10 of Dongdaemun Station on Line 1·4', '09:30~17:30 (Break 13:00~14:30)', 'Yuil Oriental Medicine Clinic', '  ', 'en', '+82-2-742-5533', 'futureheritage.seoul.go.kr/web/investigate/aroundHeritageView.do?htId=2230', 'Monday through Friday', 27907)\n",
      "('03021 ソウル市チョンノ(鍾路)区チャンウィムンロ11ギル4-1 ', '美術,歴史スポット,ソッパジョン,美術館,庭園', 'https://japanese.visitseoul.net/attractions/ソッパジョン/JPP037164?utm_source=seoulopendata&utm_medium=attractions&utm_content=JPP037164', 'None', '月、火', 'None', 'None', '11:00-17:00', 'ソッパジョン(石坡亭)', ' ソウル市チョンノ(鍾路)区プアムドン(付巌洞) 201 ', 'ja', '+82-2-395-0100', 'https://seoulmuseum.org/INTRO', '水-日', 37281)\n",
      "('04383 首尔龙山区西冰库路 137 (龙山洞6街, 国立中央博物馆) ', '文化遗产,博物馆,景点,国立中央博物馆-儿童博物馆,观览,儿童博物馆,展示,二村站,遗产', 'https://chinese.visitseoul.net/attractions/国立中央博物馆-儿童博物馆/CNP020547?utm_source=seoulopendata&utm_medium=attractions&utm_content=CNP020547', 'None', '元旦、春节、中秋节当天休息', 'None', '4号线 二村站2号出口\\r\\n京义中央线 二村站2号出口', '10:00~18:00\\r\\n*夜间开放 (每月最后一周的周三)\\r\\n18:30~19:30 (300名)\\r\\n19:30~21:00 (300名) (KST)\\r\\n', '国立中央博物馆 儿童博物馆', '140-797 首尔龙山区龙山洞6街 168-6 ', 'zh-CN', '+82-2-2077-9000', 'http://www.museum.go.kr/site/child/home', 'None', 20624)\n",
      "(' 首尔市钟路区昭格洞165 ', '艺术,现代美术,国立现代美术馆首尔馆,美术馆,光华门,展览', 'https://chinese.visitseoul.net/attractions/国立现代美术馆首尔馆/CNP011658?utm_source=seoulopendata&utm_medium=attractions&utm_content=CNP011658', 'None', '定期休馆: 1月1日、春节、中秋节', '残疾人洗手间,无障碍坡道,残疾人专用停车场,残疾人指南(轮椅租借及其他),电梯', '3号线 安国站1号出口朝北村方向步行8分钟\\r\\n\\r\\n', '周一、二、四、五、日: 10:00 ~ 18:00\\r\\n周三、六 : 10:00  ~ 21:00（晚间 18:00~21:00 夜间开放）', '国立现代美术馆首尔馆', ' 首尔市钟路区三清路30号 ', 'zh-CN', 'None', 'http://www.mmca.go.kr/chn/?menuId=1000000000', '周一~周日', 11660)\n",
      "('04537 서울 중구 명동길 74 (명동2가, 명동성당) ', '명동대성당, 고딕,명동, 1898광장,복합문화공간,명동나들이, 성당', 'https://korean.visitseoul.net/attractions/1898-명동성당/KOP015338?utm_source=seoulopendata&utm_medium=attractions&utm_content=KOP015338', 'None', '설날, 추석 당일 (성당사무실: 월요일 휴무)', 'None', '2호선 을지로입구역 5번 출구   \\r\\n3호선 을지로3가역 12번 출구\\r\\n4호선 명동역 9번 출구   ', '성당사무실\\r\\n화   ~   금 | 09:00 ~ 20:30\\r\\n토  요  일 | 09:00 ~ 20:00\\r\\n일  요  일 | 09:00 ~ 21:00\\r\\n', '1898 명동성당 ', '100-809 서울 중구 명동2가 1-1 ', 'ko', '02-774-1784', 'None', 'None', 15338)\n",
      "('07327 101, Uisadang-daero, Yeongdeungpo-gu, Seoul ', 'SeMABunker,Seoul20,YeouidoStation,SeMA,SeoulMuseumOfArt,Gallery,Yeouido,Culture,UndergroundBunker,History,Art', 'https://english.visitseoul.net/attractions/SeMA-Bunker/ENP023532?utm_source=seoulopendata&utm_medium=attractions&utm_content=ENP023532', 'None', 'Mondays', 'None', 'Subway Lines 5 & 9, Yeouido Station, Exit 3', 'Tuesday - Friday 10:00 - 20:00 KST\\r\\nSat, Holiday 10:00 - 19:00 KST', 'SeMA Bunker', '150-010 B-101, Uisadangdaero, Yeongdeungpo-gu, Seoul ', 'en', '+82-2-2124-8941', 'https://sema.seoul.go.kr/en/index', 'None', 23961)\n",
      "('07327 首爾市永登浦區議事堂大路101 (汝矣島站) ', '首爾,首爾旅行,地堡,汝矣島景點,SeMA Bunker,汝矣島轉乘中心,秘密地堡,SeMA地堡,汝矣島地下秘密地堡', 'https://tchinese.visitseoul.net/attractions/SeMA-地堡/TCP023532?utm_source=seoulopendata&utm_medium=attractions&utm_content=TCP023532', 'None', '週一', 'None', '地鐵5、9號線汝矣島站3號出口直行200m後，於汝矣島公園交叉路口右轉直行200m', '週二 - 週五 10:00 - 20:00\\r\\n週六、公休日 10:00 - 19:00', 'SeMA 地堡', '150-010 首爾市永登浦區汝矣島洞2-6 ', 'zh-TW', '+82-2-2124-8868', 'https://sema.seoul.go.kr/en/index', '週二 - 週日', 23650)\n"
     ]
    }
   ],
   "source": [
    "import pymysql, pass1\n",
    "connection = pymysql.connect(host='localhost', user='root', password=pass1.password(), db='test_publicdata')\n",
    "\n",
    "try:\n",
    "    with connection.cursor() as cursor:\n",
    "        query = \"SELECT * FROM spot limit 10;\"\n",
    "        cursor.execute(query)\n",
    "        # 결과 출력\n",
    "        for row in cursor.fetchall():\n",
    "            print(row)\n",
    "finally:\n",
    "    connection.close()"
   ]
  },
  {
   "cell_type": "code",
   "execution_count": 10,
   "metadata": {},
   "outputs": [],
   "source": [
    "connection = pymysql.connect(host='localhost', user='root', password=pass1.password(), db='test_publicdata')\n",
    "\n",
    "try:\n",
    "    with connection.cursor() as cursor:\n",
    "        query = \"insert into spot (new_address, tag) value('광화문', '이순신동상');\"\n",
    "        cursor.execute(query)\n",
    "        connection.commit()\n",
    "finally:\n",
    "    connection.close()"
   ]
  },
  {
   "cell_type": "code",
   "execution_count": 11,
   "metadata": {},
   "outputs": [
    {
     "name": "stdout",
     "output_type": "stream",
     "text": [
      "('광화문', '이순신동상', None, None, None, None, None, None, None, None, None, None, None, None, None)\n"
     ]
    }
   ],
   "source": [
    "connection = pymysql.connect(host='localhost', user='root', password=pass1.password(), db='test_publicdata')\n",
    "\n",
    "try:\n",
    "    with connection.cursor() as cursor:\n",
    "        query = \"SELECT * FROM spot where new_address = '광화문';\"\n",
    "        cursor.execute(query)\n",
    "        # 결과 출력\n",
    "        for row in cursor.fetchall():\n",
    "            print(row)\n",
    "finally:\n",
    "    connection.close()"
   ]
  },
  {
   "cell_type": "code",
   "execution_count": 12,
   "metadata": {},
   "outputs": [],
   "source": [
    "connection = pymysql.connect(host='localhost', user='root', password=pass1.password(), db='test_publicdata')\n",
    "\n",
    "try:\n",
    "    with connection.cursor() as cursor:\n",
    "        query = \"update spot set post_url = '여기주소로 보내욥' where new_address = '광화문';\"\n",
    "        cursor.execute(query)\n",
    "        connection.commit()\n",
    "finally:\n",
    "    connection.close()"
   ]
  },
  {
   "cell_type": "code",
   "execution_count": 13,
   "metadata": {},
   "outputs": [
    {
     "name": "stdout",
     "output_type": "stream",
     "text": [
      "('광화문', '이순신동상', '여기주소로 보내욥', None, None, None, None, None, None, None, None, None, None, None, None)\n"
     ]
    }
   ],
   "source": [
    "connection = pymysql.connect(host='localhost', user='root', password=pass1.password(), db='test_publicdata')\n",
    "\n",
    "try:\n",
    "    with connection.cursor() as cursor:\n",
    "        query = \"SELECT * FROM spot where new_address = '광화문';\"\n",
    "        cursor.execute(query)\n",
    "        # 결과 출력\n",
    "        for row in cursor.fetchall():\n",
    "            print(row)\n",
    "finally:\n",
    "    connection.close()"
   ]
  },
  {
   "cell_type": "code",
   "execution_count": 14,
   "metadata": {},
   "outputs": [],
   "source": [
    "connection = pymysql.connect(host='localhost', user='root', password=pass1.password(), db='test_publicdata')\n",
    "\n",
    "try:\n",
    "    with connection.cursor() as cursor:\n",
    "        query = \"delete from spot where new_address = '광화문';\"\n",
    "        cursor.execute(query)\n",
    "        connection.commit()\n",
    "finally:\n",
    "    connection.close()"
   ]
  },
  {
   "cell_type": "code",
   "execution_count": 15,
   "metadata": {},
   "outputs": [],
   "source": [
    "connection = pymysql.connect(host='localhost', user='root', password=pass1.password(), db='test_publicdata')\n",
    "\n",
    "try:\n",
    "    with connection.cursor() as cursor:\n",
    "        query = \"SELECT * FROM spot where new_address = '광화문';\"\n",
    "        cursor.execute(query)\n",
    "        # 결과 출력\n",
    "        for row in cursor.fetchall():\n",
    "            print(row)\n",
    "finally:\n",
    "    connection.close()"
   ]
  }
 ],
 "metadata": {
  "kernelspec": {
   "display_name": "Python 3",
   "language": "python",
   "name": "python3"
  },
  "language_info": {
   "codemirror_mode": {
    "name": "ipython",
    "version": 3
   },
   "file_extension": ".py",
   "mimetype": "text/x-python",
   "name": "python",
   "nbconvert_exporter": "python",
   "pygments_lexer": "ipython3",
   "version": "3.12.1"
  }
 },
 "nbformat": 4,
 "nbformat_minor": 2
}
