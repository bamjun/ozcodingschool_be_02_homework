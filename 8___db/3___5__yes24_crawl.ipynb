{
 "cells": [
  {
   "cell_type": "markdown",
   "metadata": {},
   "source": [
    "### yes 24 크롤링\n",
    "[학습자료](https://visioneer.notion.site/05-Mini-Project-24-9ea5c5071c55435c96d4a7b32f599c7c)"
   ]
  },
  {
   "cell_type": "code",
   "execution_count": 1,
   "metadata": {},
   "outputs": [
    {
     "data": {
      "text/plain": [
       "'C:\\\\Users\\\\khy51\\\\.wdm\\\\drivers\\\\chromedriver\\\\win64\\\\121.0.6167.85\\\\chromedriver-win32/chromedriver.exe'"
      ]
     },
     "execution_count": 1,
     "metadata": {},
     "output_type": "execute_result"
    }
   ],
   "source": [
    "# webdriver-manager 라이브러리 불러오기\n",
    "from webdriver_manager.chrome import ChromeDriverManager\n",
    "ChromeDriverManager().install()"
   ]
  },
  {
   "cell_type": "code",
   "execution_count": 2,
   "metadata": {},
   "outputs": [],
   "source": [
    "from selenium import webdriver\n",
    "browser = webdriver.Chrome()"
   ]
  },
  {
   "cell_type": "code",
   "execution_count": 7,
   "metadata": {},
   "outputs": [],
   "source": [
    "url = 'https://google.com'\n",
    "browser.get(url)"
   ]
  },
  {
   "cell_type": "code",
   "execution_count": 8,
   "metadata": {},
   "outputs": [
    {
     "data": {
      "text/plain": [
       "'대한민국'"
      ]
     },
     "execution_count": 8,
     "metadata": {},
     "output_type": "execute_result"
    }
   ],
   "source": [
    "from selenium.webdriver.common.by import By\n",
    "browser.find_element(By.CLASS_NAME, 'uU7dJb').text"
   ]
  },
  {
   "cell_type": "markdown",
   "metadata": {},
   "source": [
    "### 예스24 데이터"
   ]
  },
  {
   "cell_type": "code",
   "execution_count": 9,
   "metadata": {},
   "outputs": [],
   "source": [
    "url = 'https://www.yes24.com/Product/Category/BestSeller?categoryNumber=001&pageNumber=1&pageSize=24'\n",
    "browser.get(url)"
   ]
  },
  {
   "cell_type": "code",
   "execution_count": 14,
   "metadata": {},
   "outputs": [
    {
     "name": "stdout",
     "output_type": "stream",
     "text": [
      "https://www.yes24.com/Product/Goods/122120495\n",
      "https://www.yes24.com/Product/Goods/123675187\n",
      "https://www.yes24.com/Product/Goods/117014613\n",
      "https://www.yes24.com/Product/Goods/124043812\n",
      "https://www.yes24.com/Product/Goods/124043802\n",
      "https://www.yes24.com/Product/Goods/124702623\n",
      "https://www.yes24.com/Product/Goods/122090360\n",
      "https://www.yes24.com/Product/Goods/123400303\n",
      "https://www.yes24.com/Product/Goods/122944685\n",
      "https://www.yes24.com/Product/Goods/118579613\n",
      "https://www.yes24.com/Product/Goods/124112599\n",
      "https://www.yes24.com/Product/Goods/124539805\n",
      "https://www.yes24.com/Product/Goods/122428190\n",
      "https://www.yes24.com/Product/Goods/124501342\n",
      "https://www.yes24.com/Product/Goods/119562091\n",
      "https://www.yes24.com/Product/Goods/119458052\n",
      "https://www.yes24.com/Product/Goods/124574394\n",
      "https://www.yes24.com/Product/Goods/118413014\n",
      "https://www.yes24.com/Product/Goods/124707232\n",
      "https://www.yes24.com/Product/Goods/79297023\n",
      "https://www.yes24.com/Product/Goods/119120517\n",
      "https://www.yes24.com/Product/Goods/124702605\n",
      "https://www.yes24.com/Product/Goods/124408170\n",
      "https://www.yes24.com/Product/Goods/124719615\n"
     ]
    }
   ],
   "source": [
    "# 1페이지의 링크 데이터 전부 수집\n",
    "\n",
    "### 한개의 베스트 셀러 링크 수집\n",
    "browser.find_element(By.CLASS_NAME, 'gd_name').get_attribute('href')\n",
    "\n",
    "### 1페이지 전체의 링크데이터\n",
    "# browser.find_element(By.CLASS_NAME, 'gd_name').get_attribute('href')\n",
    "datas = browser.find_elements(By.CLASS_NAME, 'gd_name')\n",
    "for i in datas:\n",
    "    print(i.get_attribute('href'))"
   ]
  },
  {
   "cell_type": "code",
   "execution_count": 71,
   "metadata": {},
   "outputs": [
    {
     "name": "stdout",
     "output_type": "stream",
     "text": [
      "********** 현재 4 페이지 수집 중 입니다. **********\n",
      "********** 현재 5 페이지 수집 중 입니다. **********\n",
      "********** 현재 6 페이지 수집 중 입니다. **********\n",
      "['https://www.yes24.com/Product/Goods/123155346', 'https://www.yes24.com/Product/Goods/124807552', 'https://www.yes24.com/Product/Goods/96794060', 'https://www.yes24.com/Product/Goods/124393292', 'https://www.yes24.com/Product/Goods/123876440', 'https://www.yes24.com/Product/Goods/115475489', 'https://www.yes24.com/Product/Goods/123126171', 'https://www.yes24.com/Product/Goods/124300539', 'https://www.yes24.com/Product/Goods/106711883', 'https://www.yes24.com/Product/Goods/123669027', 'https://www.yes24.com/Product/Goods/124623958', 'https://www.yes24.com/Product/Goods/122598335', 'https://www.yes24.com/Product/Goods/123664943', 'https://www.yes24.com/Product/Goods/102502665', 'https://www.yes24.com/Product/Goods/69655504', 'https://www.yes24.com/Product/Goods/1387488', 'https://www.yes24.com/Product/Goods/122457906', 'https://www.yes24.com/Product/Goods/124517887', 'https://www.yes24.com/Product/Goods/58774995', 'https://www.yes24.com/Product/Goods/124518483', 'https://www.yes24.com/Product/Goods/124341556', 'https://www.yes24.com/Product/Goods/11081680', 'https://www.yes24.com/Product/Goods/37533966', 'https://www.yes24.com/Product/Goods/123814844', 'https://www.yes24.com/Product/Goods/124716172', 'https://www.yes24.com/Product/Goods/124578392', 'https://www.yes24.com/Product/Goods/117389523', 'https://www.yes24.com/Product/Goods/124225611', 'https://www.yes24.com/Product/Goods/123899667', 'https://www.yes24.com/Product/Goods/124608779', 'https://www.yes24.com/Product/Goods/96087459', 'https://www.yes24.com/Product/Goods/105526047', 'https://www.yes24.com/Product/Goods/18410503', 'https://www.yes24.com/Product/Goods/122865851', 'https://www.yes24.com/Product/Goods/122090075', 'https://www.yes24.com/Product/Goods/118755085', 'https://www.yes24.com/Product/Goods/16384156', 'https://www.yes24.com/Product/Goods/124531522', 'https://www.yes24.com/Product/Goods/116020437', 'https://www.yes24.com/Product/Goods/124301348', 'https://www.yes24.com/Product/Goods/117722000', 'https://www.yes24.com/Product/Goods/124574978', 'https://www.yes24.com/Product/Goods/124095113', 'https://www.yes24.com/Product/Goods/123877358', 'https://www.yes24.com/Product/Goods/119882948', 'https://www.yes24.com/Product/Goods/2312211', 'https://www.yes24.com/Product/Goods/124626784', 'https://www.yes24.com/Product/Goods/124628440', 'https://www.yes24.com/Product/Goods/122786183', 'https://www.yes24.com/Product/Goods/124123647', 'https://www.yes24.com/Product/Goods/99308021', 'https://www.yes24.com/Product/Goods/65067259', 'https://www.yes24.com/Product/Goods/124027074', 'https://www.yes24.com/Product/Goods/124865526', 'https://www.yes24.com/Product/Goods/124472691', 'https://www.yes24.com/Product/Goods/124768439', 'https://www.yes24.com/Product/Goods/123878841', 'https://www.yes24.com/Product/Goods/124516018', 'https://www.yes24.com/Product/Goods/124768304', 'https://www.yes24.com/Product/Goods/23030284', 'https://www.yes24.com/Product/Goods/121144774', 'https://www.yes24.com/Product/Goods/124624307', 'https://www.yes24.com/Product/Goods/124341408', 'https://www.yes24.com/Product/Goods/122103181', 'https://www.yes24.com/Product/Goods/19103599', 'https://www.yes24.com/Product/Goods/124644663', 'https://www.yes24.com/Product/Goods/122428674', 'https://www.yes24.com/Product/Goods/121576038', 'https://www.yes24.com/Product/Goods/117643865', 'https://www.yes24.com/Product/Goods/86545658', 'https://www.yes24.com/Product/Goods/124017175', 'https://www.yes24.com/Product/Goods/124420633']\n"
     ]
    }
   ],
   "source": [
    "# 3페이지의 링크 데이터 전부 수집\n",
    "import time\n",
    "\n",
    "link_list = []\n",
    "for x in range(7, 10):\n",
    "    print(\"*\"*10, f'현재 {x} 페이지 수집 중 입니다.', '*'*10)\n",
    "    url = f'https://www.yes24.com/Product/Category/BestSeller?categoryNumber=001&pageNumber={x}&pageSize=24'\n",
    "    browser.get(url)\n",
    "\n",
    "    datas = browser.find_elements(By.CLASS_NAME, 'gd_name')\n",
    "    for i in datas:\n",
    "        link = i.get_attribute('href')\n",
    "        link_list.append(link)\n",
    "    time.sleep(3)\n",
    "\n",
    "print(link_list)\n"
   ]
  },
  {
   "cell_type": "code",
   "execution_count": 72,
   "metadata": {},
   "outputs": [
    {
     "data": {
      "text/plain": [
       "72"
      ]
     },
     "execution_count": 72,
     "metadata": {},
     "output_type": "execute_result"
    }
   ],
   "source": [
    "len(link_list)"
   ]
  },
  {
   "cell_type": "code",
   "execution_count": 68,
   "metadata": {},
   "outputs": [
    {
     "name": "stdout",
     "output_type": "stream",
     "text": [
      "SQL 자격검정 실전문제 한국데이터진흥원 저 한국데이터산업진흥원 2023-12-29 0 0 54003 18000 40 1\n",
      "0 0\n"
     ]
    }
   ],
   "source": [
    "# for link in link_list:\n",
    "#     browser.get(link)\n",
    "# 테스트용.\n",
    "\n",
    "browser.get(link_list[0])\n",
    "title = browser.find_element(By.CLASS_NAME, 'gd_name').text\n",
    "author = browser.find_element(By.CLASS_NAME, 'gd_auth').text\n",
    "publisher = browser.find_element(By.CLASS_NAME, 'gd_pub').text\n",
    "\n",
    "\n",
    "publishing = browser.find_element(By.CLASS_NAME, 'gd_date').text\n",
    "\n",
    "match = re.search(r'(\\d+)년 (\\d+)월 (\\d+)일', publishing)\n",
    "\n",
    "\n",
    "if match:\n",
    "    year, month, day = match.groups()\n",
    "    data_obj = datetime(int(year), int(month), int(day))\n",
    "    publishing = data_obj.strftime(\"%Y-%m-%d\")\n",
    "else:\n",
    "    publishing = \"2023-01-01\"\n",
    "\n",
    "try:\n",
    "    rating_text = browser.find_element(By.CSS_SELECTOR, '.bgGD.total_rating.total_rating_10').text\n",
    "    rating = browser.find_element(By.CLASS_NAME, 'yes_b').text\n",
    "except:\n",
    "    rating = 0\n",
    "\n",
    "try:\n",
    "    review = browser.find_element(By.CLASS_NAME, 'txC_blue').text\n",
    "    review = int(review.replace(',', ''))\n",
    "except:\n",
    "    review = 0\n",
    "\n",
    "sales = browser.find_element(By.CLASS_NAME, 'gd_sellNum').text.split(\" \")[2]\n",
    "sales = int(sales.replace(',', ''))\n",
    "\n",
    "price = browser.find_element(By.CLASS_NAME, 'yes_m').text[:-1]\n",
    "price = int(price.replace(',', ''))\n",
    "\n",
    "\n",
    "full_text = browser.find_element(By.CLASS_NAME, 'gd_best').text\n",
    "parts = full_text.split(\" | \")\n",
    "\n",
    "try:\n",
    "    ranking_part = parts[0]\n",
    "    ranking = ''.join(filter(str.isdigit, ranking_part))\n",
    "except:\n",
    "    ranking = 0\n",
    "\n",
    "try:\n",
    "    ranking_weeks_part = parts[1]\n",
    "    ranking_weeks = ''.join(filter(str.isdigit, ranking_weeks_part.split()[-1]))\n",
    "except:\n",
    "    ranking_weeks = 0\n",
    "\n",
    "print(title, author, publisher, publishing, rating, review, sales, price, ranking, ranking_weeks)\n",
    "print(0, str(rating))\n"
   ]
  },
  {
   "cell_type": "code",
   "execution_count": 73,
   "metadata": {},
   "outputs": [],
   "source": [
    "# 데이터 베이스 연동 후 -> 수집한 데이터를 DB에 저장 (csv)\n",
    "import pymysql, pass1, time, re\n",
    "from datetime import datetime\n",
    "\n",
    "conn = pymysql.connect(\n",
    "    host='localhost',\n",
    "    user='root',\n",
    "    password= pass1.password(),\n",
    "    db = 'yes24',\n",
    "    cursorclass = pymysql.cursors.DictCursor\n",
    ")\n",
    "\n",
    "with conn.cursor() as cur:\n",
    "\n",
    "    for link in link_list:\n",
    "        browser.get(link)\n",
    "\n",
    "        title = browser.find_element(By.CLASS_NAME, 'gd_name').text\n",
    "        author = browser.find_element(By.CLASS_NAME, 'gd_auth').text\n",
    "        publisher = browser.find_element(By.CLASS_NAME, 'gd_pub').text\n",
    "\n",
    "\n",
    "        publishing = browser.find_element(By.CLASS_NAME, 'gd_date').text\n",
    "        \n",
    "        match = re.search(r'(\\d+)년 (\\d+)월 (\\d+)일', publishing)\n",
    "\n",
    "\n",
    "        if match:\n",
    "            year, month, day = match.groups()\n",
    "            data_obj = datetime(int(year), int(month), int(day))\n",
    "            publishing = data_obj.strftime(\"%Y-%m-%d\")\n",
    "        else:\n",
    "            publishing = \"2023-01-01\"\n",
    "\n",
    "\n",
    "        try:\n",
    "            rating_text = browser.find_element(By.CSS_SELECTOR, '.bgGD.total_rating.total_rating_10').text\n",
    "            rating = browser.find_element(By.CLASS_NAME, 'yes_b').text\n",
    "        except:\n",
    "            rating = 0\n",
    "\n",
    "        try:\n",
    "            review = browser.find_element(By.CLASS_NAME, 'txC_blue').text\n",
    "            review = int(review.replace(',', ''))\n",
    "        except:\n",
    "            review = '0'\n",
    "\n",
    "        sales = browser.find_element(By.CLASS_NAME, 'gd_sellNum').text.split(\" \")[2]\n",
    "        sales = int(sales.replace(',', ''))\n",
    "\n",
    "        price = browser.find_element(By.CLASS_NAME, 'yes_m').text[:-1]\n",
    "        price = int(price.replace(',', ''))\n",
    "\n",
    "        \n",
    "        full_text = browser.find_element(By.CLASS_NAME, 'gd_best').text\n",
    "        parts = full_text.split(\" | \")\n",
    "\n",
    "        try:\n",
    "            ranking_part = parts[0]\n",
    "            ranking = ''.join(filter(str.isdigit, ranking_part))\n",
    "        except:\n",
    "            ranking = 0\n",
    "\n",
    "        try:\n",
    "            ranking_weeks_part = parts[1]\n",
    "            ranking_weeks = ''.join(filter(str.isdigit, ranking_weeks_part.split()[-1]))\n",
    "        except:\n",
    "            ranking_weeks = 0\n",
    "\n",
    "\n",
    "        sql = \"\"\"INSERT INTO books(\n",
    "            title, author, publisher, publishing, rating, review, sales, price, ranking, ranking_weeks\n",
    "            )\n",
    "            VALUES(\n",
    "                %s,%s,%s,%s,%s,%s,%s,%s,%s,%s\n",
    "            )\n",
    "            \"\"\"\n",
    "        cur.execute(sql, (title, author, publisher, publishing, rating, review, sales, price, ranking, ranking_weeks))\n",
    "        conn.commit()\n",
    "\n",
    "        time.sleep(2)\n",
    "\n"
   ]
  }
 ],
 "metadata": {
  "kernelspec": {
   "display_name": "Python 3",
   "language": "python",
   "name": "python3"
  },
  "language_info": {
   "codemirror_mode": {
    "name": "ipython",
    "version": 3
   },
   "file_extension": ".py",
   "mimetype": "text/x-python",
   "name": "python",
   "nbconvert_exporter": "python",
   "pygments_lexer": "ipython3",
   "version": "3.12.1"
  }
 },
 "nbformat": 4,
 "nbformat_minor": 2
}
