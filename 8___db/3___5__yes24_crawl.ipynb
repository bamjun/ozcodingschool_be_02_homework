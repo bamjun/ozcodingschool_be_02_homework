{
 "cells": [
  {
   "cell_type": "markdown",
   "metadata": {},
   "source": [
    "### yes 24 크롤링\n",
    "[학습자료](https://visioneer.notion.site/05-Mini-Project-24-9ea5c5071c55435c96d4a7b32f599c7c)"
   ]
  },
  {
   "cell_type": "code",
   "execution_count": 1,
   "metadata": {},
   "outputs": [
    {
     "data": {
      "text/plain": [
       "'C:\\\\Users\\\\khy51\\\\.wdm\\\\drivers\\\\chromedriver\\\\win64\\\\121.0.6167.85\\\\chromedriver-win32/chromedriver.exe'"
      ]
     },
     "execution_count": 1,
     "metadata": {},
     "output_type": "execute_result"
    }
   ],
   "source": [
    "# webdriver-manager 라이브러리 불러오기\n",
    "from webdriver_manager.chrome import ChromeDriverManager\n",
    "ChromeDriverManager().install()"
   ]
  },
  {
   "cell_type": "code",
   "execution_count": 2,
   "metadata": {},
   "outputs": [],
   "source": [
    "from selenium import webdriver\n",
    "browser = webdriver.Chrome()"
   ]
  },
  {
   "cell_type": "code",
   "execution_count": 7,
   "metadata": {},
   "outputs": [],
   "source": [
    "url = 'https://google.com'\n",
    "browser.get(url)"
   ]
  },
  {
   "cell_type": "code",
   "execution_count": 8,
   "metadata": {},
   "outputs": [
    {
     "data": {
      "text/plain": [
       "'대한민국'"
      ]
     },
     "execution_count": 8,
     "metadata": {},
     "output_type": "execute_result"
    }
   ],
   "source": [
    "from selenium.webdriver.common.by import By\n",
    "browser.find_element(By.CLASS_NAME, 'uU7dJb').text"
   ]
  },
  {
   "cell_type": "markdown",
   "metadata": {},
   "source": [
    "### 예스24 데이터"
   ]
  },
  {
   "cell_type": "code",
   "execution_count": 9,
   "metadata": {},
   "outputs": [],
   "source": [
    "url = 'https://www.yes24.com/Product/Category/BestSeller?categoryNumber=001&pageNumber=1&pageSize=24'\n",
    "browser.get(url)"
   ]
  },
  {
   "cell_type": "code",
   "execution_count": 14,
   "metadata": {},
   "outputs": [
    {
     "name": "stdout",
     "output_type": "stream",
     "text": [
      "https://www.yes24.com/Product/Goods/122120495\n",
      "https://www.yes24.com/Product/Goods/123675187\n",
      "https://www.yes24.com/Product/Goods/117014613\n",
      "https://www.yes24.com/Product/Goods/124043812\n",
      "https://www.yes24.com/Product/Goods/124043802\n",
      "https://www.yes24.com/Product/Goods/124702623\n",
      "https://www.yes24.com/Product/Goods/122090360\n",
      "https://www.yes24.com/Product/Goods/123400303\n",
      "https://www.yes24.com/Product/Goods/122944685\n",
      "https://www.yes24.com/Product/Goods/118579613\n",
      "https://www.yes24.com/Product/Goods/124112599\n",
      "https://www.yes24.com/Product/Goods/124539805\n",
      "https://www.yes24.com/Product/Goods/122428190\n",
      "https://www.yes24.com/Product/Goods/124501342\n",
      "https://www.yes24.com/Product/Goods/119562091\n",
      "https://www.yes24.com/Product/Goods/119458052\n",
      "https://www.yes24.com/Product/Goods/124574394\n",
      "https://www.yes24.com/Product/Goods/118413014\n",
      "https://www.yes24.com/Product/Goods/124707232\n",
      "https://www.yes24.com/Product/Goods/79297023\n",
      "https://www.yes24.com/Product/Goods/119120517\n",
      "https://www.yes24.com/Product/Goods/124702605\n",
      "https://www.yes24.com/Product/Goods/124408170\n",
      "https://www.yes24.com/Product/Goods/124719615\n"
     ]
    }
   ],
   "source": [
    "# 1페이지의 링크 데이터 전부 수집\n",
    "\n",
    "### 한개의 베스트 셀러 링크 수집\n",
    "browser.find_element(By.CLASS_NAME, 'gd_name').get_attribute('href')\n",
    "\n",
    "### 1페이지 전체의 링크데이터\n",
    "# browser.find_element(By.CLASS_NAME, 'gd_name').get_attribute('href')\n",
    "datas = browser.find_elements(By.CLASS_NAME, 'gd_name')\n",
    "for i in datas:\n",
    "    print(i.get_attribute('href'))"
   ]
  },
  {
   "cell_type": "code",
   "execution_count": 19,
   "metadata": {},
   "outputs": [
    {
     "name": "stdout",
     "output_type": "stream",
     "text": [
      "********** 현재 1 페이지 수집 중 입니다. **********\n",
      "********** 현재 2 페이지 수집 중 입니다. **********\n",
      "********** 현재 3 페이지 수집 중 입니다. **********\n",
      "['https://www.yes24.com/Product/Goods/122120495', 'https://www.yes24.com/Product/Goods/123675187', 'https://www.yes24.com/Product/Goods/117014613', 'https://www.yes24.com/Product/Goods/124043812', 'https://www.yes24.com/Product/Goods/124043802', 'https://www.yes24.com/Product/Goods/124702623', 'https://www.yes24.com/Product/Goods/122090360', 'https://www.yes24.com/Product/Goods/123400303', 'https://www.yes24.com/Product/Goods/122944685', 'https://www.yes24.com/Product/Goods/118579613', 'https://www.yes24.com/Product/Goods/124112599', 'https://www.yes24.com/Product/Goods/124539805', 'https://www.yes24.com/Product/Goods/122428190', 'https://www.yes24.com/Product/Goods/124501342', 'https://www.yes24.com/Product/Goods/119562091', 'https://www.yes24.com/Product/Goods/119458052', 'https://www.yes24.com/Product/Goods/124574394', 'https://www.yes24.com/Product/Goods/118413014', 'https://www.yes24.com/Product/Goods/124707232', 'https://www.yes24.com/Product/Goods/79297023', 'https://www.yes24.com/Product/Goods/119120517', 'https://www.yes24.com/Product/Goods/124702605', 'https://www.yes24.com/Product/Goods/124408170', 'https://www.yes24.com/Product/Goods/124719615', 'https://www.yes24.com/Product/Goods/123930891', 'https://www.yes24.com/Product/Goods/123318244', 'https://www.yes24.com/Product/Goods/124397623', 'https://www.yes24.com/Product/Goods/123930880', 'https://www.yes24.com/Product/Goods/124472824', 'https://www.yes24.com/Product/Goods/122426425', 'https://www.yes24.com/Product/Goods/122880691', 'https://www.yes24.com/Product/Goods/124849202', 'https://www.yes24.com/Product/Goods/124347651', 'https://www.yes24.com/Product/Goods/79208821', 'https://www.yes24.com/Product/Goods/118569079', 'https://www.yes24.com/Product/Goods/122433629', 'https://www.yes24.com/Product/Goods/124702295', 'https://www.yes24.com/Product/Goods/67362730', 'https://www.yes24.com/Product/Goods/124645703', 'https://www.yes24.com/Product/Goods/124717965', 'https://www.yes24.com/Product/Goods/8759796', 'https://www.yes24.com/Product/Goods/9349031', 'https://www.yes24.com/Product/Goods/124127709', 'https://www.yes24.com/Product/Goods/116467955', 'https://www.yes24.com/Product/Goods/96072143', 'https://www.yes24.com/Product/Goods/124644662', 'https://www.yes24.com/Product/Goods/114853233', 'https://www.yes24.com/Product/Goods/90428162', 'https://www.yes24.com/Product/Goods/124014108', 'https://www.yes24.com/Product/Goods/124027690', 'https://www.yes24.com/Product/Goods/124184330', 'https://www.yes24.com/Product/Goods/124733569', 'https://www.yes24.com/Product/Goods/124157362', 'https://www.yes24.com/Product/Goods/124106975', 'https://www.yes24.com/Product/Goods/123676271', 'https://www.yes24.com/Product/Goods/120761010', 'https://www.yes24.com/Product/Goods/118578901', 'https://www.yes24.com/Product/Goods/124219505', 'https://www.yes24.com/Product/Goods/124339743', 'https://www.yes24.com/Product/Goods/120785860', 'https://www.yes24.com/Product/Goods/124852714', 'https://www.yes24.com/Product/Goods/124315515', 'https://www.yes24.com/Product/Goods/91868954', 'https://www.yes24.com/Product/Goods/124315134', 'https://www.yes24.com/Product/Goods/121911671', 'https://www.yes24.com/Product/Goods/124219508', 'https://www.yes24.com/Product/Goods/123623040', 'https://www.yes24.com/Product/Goods/124702004', 'https://www.yes24.com/Product/Goods/123623043', 'https://www.yes24.com/Product/Goods/124106985', 'https://www.yes24.com/Product/Goods/106369008', 'https://www.yes24.com/Product/Goods/124213903']\n"
     ]
    }
   ],
   "source": [
    "# 3페이지의 링크 데이터 전부 수집\n",
    "import time\n",
    "\n",
    "link_list = []\n",
    "for x in range(1, 4):\n",
    "    print(\"*\"*10, f'현재 {x} 페이지 수집 중 입니다.', '*'*10)\n",
    "    url = f'https://www.yes24.com/Product/Category/BestSeller?categoryNumber=001&pageNumber={x}&pageSize=24'\n",
    "    browser.get(url)\n",
    "\n",
    "    datas = browser.find_elements(By.CLASS_NAME, 'gd_name')\n",
    "    for i in datas:\n",
    "        link = i.get_attribute('href')\n",
    "        link_list.append(link)\n",
    "    time.sleep(3)\n",
    "\n",
    "print(link_list)\n"
   ]
  },
  {
   "cell_type": "code",
   "execution_count": 20,
   "metadata": {},
   "outputs": [
    {
     "data": {
      "text/plain": [
       "72"
      ]
     },
     "execution_count": 20,
     "metadata": {},
     "output_type": "execute_result"
    }
   ],
   "source": [
    "len(link_list)"
   ]
  },
  {
   "cell_type": "code",
   "execution_count": null,
   "metadata": {},
   "outputs": [],
   "source": []
  }
 ],
 "metadata": {
  "kernelspec": {
   "display_name": "Python 3",
   "language": "python",
   "name": "python3"
  },
  "language_info": {
   "codemirror_mode": {
    "name": "ipython",
    "version": 3
   },
   "file_extension": ".py",
   "mimetype": "text/x-python",
   "name": "python",
   "nbconvert_exporter": "python",
   "pygments_lexer": "ipython3",
   "version": "3.12.1"
  }
 },
 "nbformat": 4,
 "nbformat_minor": 2
}
